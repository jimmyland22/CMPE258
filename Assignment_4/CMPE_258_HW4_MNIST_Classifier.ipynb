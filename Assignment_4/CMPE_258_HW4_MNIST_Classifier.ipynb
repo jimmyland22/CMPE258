{
  "nbformat": 4,
  "nbformat_minor": 0,
  "metadata": {
    "colab": {
      "name": "CMPE 258 HW4 - MNIST Classifier.ipynb",
      "provenance": [],
      "toc_visible": true
    },
    "kernelspec": {
      "name": "python3",
      "display_name": "Python 3"
    },
    "language_info": {
      "name": "python"
    }
  },
  "cells": [
    {
      "cell_type": "markdown",
      "metadata": {
        "id": "uybOD0uQpWgN"
      },
      "source": [
        "# Jimmy Liang\n",
        "\n",
        "CMPE 258 Assignment 4\n",
        "\n",
        "SJSU 001869817"
      ]
    },
    {
      "cell_type": "markdown",
      "metadata": {
        "id": "s6L1wFVnwInk"
      },
      "source": [
        "# Import the MNIST dataset, normalize and visualization"
      ]
    },
    {
      "cell_type": "code",
      "metadata": {
        "id": "CIMmbrRMUd8b"
      },
      "source": [
        "import numpy as np\n",
        "from keras.datasets import mnist\n",
        "\n",
        "(X_train, y_train), (X_test, y_test) = mnist.load_data()"
      ],
      "execution_count": 123,
      "outputs": []
    },
    {
      "cell_type": "code",
      "metadata": {
        "id": "qLYvWDyfq_pI"
      },
      "source": [
        "#Reshaping the training set and setting up the one hot encoded labels\n",
        "\n",
        "#X_train = X_train.reshape(len(X_train),28*28) / 255\n",
        "#y_train = y_train\n",
        "\n",
        "X_train, y_train = (x_train[0:10000].reshape(10000,28*28) / 255, y_train[0:10000])\n",
        "\n",
        "\n",
        "one_hot_labels = np.zeros((len(y_train),10))\n",
        "\n",
        "for i,l in enumerate(y_train):\n",
        "    one_hot_labels[i][l] = 1\n",
        "y_train = one_hot_labels"
      ],
      "execution_count": 124,
      "outputs": []
    },
    {
      "cell_type": "code",
      "metadata": {
        "colab": {
          "base_uri": "https://localhost:8080/"
        },
        "id": "w9GGwjgeug6z",
        "outputId": "784dfc42-e8ab-4dce-aa4f-0379b50a2c24"
      },
      "source": [
        "print('Image dataset shape is:', X_train.shape)\n",
        "print('Label dataset shape is:', y_train.shape)\n"
      ],
      "execution_count": 125,
      "outputs": [
        {
          "output_type": "stream",
          "text": [
            "Image dataset shape is: (10000, 784)\n",
            "Label dataset shape is: (10000, 10)\n"
          ],
          "name": "stdout"
        }
      ]
    },
    {
      "cell_type": "code",
      "metadata": {
        "colab": {
          "base_uri": "https://localhost:8080/",
          "height": 265
        },
        "id": "2eVNR2wUuxuD",
        "outputId": "d303e00f-8971-4c28-dc72-f41ececf6d6c"
      },
      "source": [
        "#Visualizing one of the digits\n",
        "\n",
        "import matplotlib as mpl\n",
        "import matplotlib.pyplot as plt\n",
        "digit = 10\n",
        "\n",
        "some_digit = X_train[digit]\n",
        "some_digit_image = some_digit.reshape(28, 28)\n",
        "\n",
        "plt.imshow(some_digit_image, cmap=\"binary\")\n",
        "plt.axis(\"off\")\n",
        "plt.show()\n",
        "print(\"Label is\", y_train[digit])"
      ],
      "execution_count": 126,
      "outputs": [
        {
          "output_type": "display_data",
          "data": {
            "image/png": "[encoded data removed]",
            "text/plain": [
              "<Figure size 432x288 with 1 Axes>"
            ]
          },
          "metadata": {
            "tags": [],
            "needs_background": "light"
          }
        },
        {
          "output_type": "stream",
          "text": [
            "Label is [0. 0. 0. 1. 0. 0. 0. 0. 0. 0.]\n"
          ],
          "name": "stdout"
        }
      ]
    },
    {
      "cell_type": "code",
      "metadata": {
        "id": "3OqKXLeCvnnz"
      },
      "source": [
        "# Do the same thing for the test set\n",
        "\n",
        "X_test = x_test.reshape(len(x_test),28*28) / 255\n",
        "y_test = y_test\n",
        "\n",
        "one_hot_labels = np.zeros((len(y_test),10))\n",
        "\n",
        "for i,l in enumerate(y_test):\n",
        "    one_hot_labels[i][l] = 1\n",
        "y_test = one_hot_labels"
      ],
      "execution_count": 127,
      "outputs": []
    },
    {
      "cell_type": "code",
      "metadata": {
        "colab": {
          "base_uri": "https://localhost:8080/"
        },
        "id": "ZDCoTNQRzX4e",
        "outputId": "3038ac56-0143-4cca-f350-a4aaced12744"
      },
      "source": [
        "print('Test dataset shape is:', X_test.shape)\n",
        "print('Label dataset shape is:', y_test.shape)"
      ],
      "execution_count": 128,
      "outputs": [
        {
          "output_type": "stream",
          "text": [
            "Test dataset shape is: (10000, 784)\n",
            "Label dataset shape is: (10000, 10)\n"
          ],
          "name": "stdout"
        }
      ]
    },
    {
      "cell_type": "markdown",
      "metadata": {
        "id": "On4Xdt1HERCj"
      },
      "source": [
        "# Training using Numpy"
      ]
    },
    {
      "cell_type": "markdown",
      "metadata": {
        "id": "DpTTAMad1gUW"
      },
      "source": [
        "## Define some helper functions and hyper parameters"
      ]
    },
    {
      "cell_type": "code",
      "metadata": {
        "id": "c3SK_ORz1lHP"
      },
      "source": [
        "# Activations\n",
        "\n",
        "def relu(x):\n",
        "    return (x >= 0) * x\n",
        "def relu2deriv(output):\n",
        "    return output >= 0 "
      ],
      "execution_count": 129,
      "outputs": []
    },
    {
      "cell_type": "code",
      "metadata": {
        "id": "aepU0gvcGl-u"
      },
      "source": [
        "# Hyper Parameters\n",
        "batch_size = 100\n",
        "learning_rate, iterations = (0.001, 300)\n",
        "pixels_per_image, num_labels, hidden_size = (784, 10, 100)\n",
        "\n",
        "weights_0_1 = 0.2*np.random.random((pixels_per_image,hidden_size)) - 0.1\n",
        "weights_1_2 = 0.2*np.random.random((hidden_size,num_labels)) - 0.1"
      ],
      "execution_count": 130,
      "outputs": []
    },
    {
      "cell_type": "markdown",
      "metadata": {
        "id": "-GpjspY42cls"
      },
      "source": [
        "## Training"
      ]
    },
    {
      "cell_type": "code",
      "metadata": {
        "colab": {
          "base_uri": "https://localhost:8080/"
        },
        "id": "qRQluIPi2e9R",
        "outputId": "546b47df-a0c5-4169-c472-1bf659d5e893"
      },
      "source": [
        "for j in range(iterations):\n",
        "    error, correct_cnt = (0.0, 0)\n",
        "    for i in range(int(len(X_train) / batch_size)):\n",
        "        batch_start, batch_end = ((i * batch_size),((i+1)*batch_size))\n",
        "\n",
        "        layer_0 = X_train[batch_start:batch_end]\n",
        "        layer_1 = relu(np.dot(layer_0,weights_0_1))\n",
        "        dropout_mask = np.random.randint(2,size=layer_1.shape)\n",
        "        layer_1 *= dropout_mask * 2\n",
        "        layer_2 = np.dot(layer_1,weights_1_2)\n",
        "\n",
        "        error += np.sum((y_train[batch_start:batch_end] - layer_2) ** 2)\n",
        "        for k in range(batch_size):\n",
        "            correct_cnt += int(np.argmax(layer_2[k:k+1]) == np.argmax(y_train[batch_start+k:batch_start+k+1]))\n",
        "\n",
        "            layer_2_delta = (y_train[batch_start:batch_end]-layer_2)/batch_size\n",
        "            layer_1_delta = layer_2_delta.dot(weights_1_2.T)* relu2deriv(layer_1)\n",
        "            layer_1_delta *= dropout_mask\n",
        "\n",
        "            weights_1_2 += learning_rate * layer_1.T.dot(layer_2_delta)\n",
        "            weights_0_1 += learning_rate * layer_0.T.dot(layer_1_delta)\n",
        "            \n",
        "    if(j%10 == 0):\n",
        "        test_error = 0.0\n",
        "        test_correct_cnt = 0\n",
        "\n",
        "        for i in range(len(X_test)):\n",
        "            layer_0 = X_test[i:i+1]\n",
        "            layer_1 = relu(np.dot(layer_0,weights_0_1))\n",
        "            layer_2 = np.dot(layer_1, weights_1_2)\n",
        "\n",
        "            test_error += np.sum((y_test[i:i+1] - layer_2) ** 2)\n",
        "            test_correct_cnt += int(np.argmax(layer_2) == np.argmax(y_test[i:i+1]))\n",
        "\n",
        "        print(\"Iteration:\", j, \"Test Accuracy: \", test_correct_cnt/ float(len(X_test)), \"Training Accuracy: \", correct_cnt/ float(len(X_train)) )"
      ],
      "execution_count": 131,
      "outputs": [
        {
          "output_type": "stream",
          "text": [
            "Iteration: 0 Test Accuracy:  0.094 Training Accuracy:  0.1007\n",
            "Iteration: 10 Test Accuracy:  0.1482 Training Accuracy:  0.1488\n",
            "Iteration: 20 Test Accuracy:  0.1508 Training Accuracy:  0.179\n",
            "Iteration: 30 Test Accuracy:  0.1537 Training Accuracy:  0.1866\n",
            "Iteration: 40 Test Accuracy:  0.1964 Training Accuracy:  0.1852\n",
            "Iteration: 50 Test Accuracy:  0.215 Training Accuracy:  0.1856\n",
            "Iteration: 60 Test Accuracy:  0.2032 Training Accuracy:  0.1832\n",
            "Iteration: 70 Test Accuracy:  0.1911 Training Accuracy:  0.1857\n",
            "Iteration: 80 Test Accuracy:  0.211 Training Accuracy:  0.1987\n",
            "Iteration: 90 Test Accuracy:  0.2428 Training Accuracy:  0.2176\n",
            "Iteration: 100 Test Accuracy:  0.2783 Training Accuracy:  0.2445\n",
            "Iteration: 110 Test Accuracy:  0.3317 Training Accuracy:  0.2743\n",
            "Iteration: 120 Test Accuracy:  0.4224 Training Accuracy:  0.3187\n",
            "Iteration: 130 Test Accuracy:  0.5126 Training Accuracy:  0.3659\n",
            "Iteration: 140 Test Accuracy:  0.5727 Training Accuracy:  0.4086\n",
            "Iteration: 150 Test Accuracy:  0.6023 Training Accuracy:  0.4418\n",
            "Iteration: 160 Test Accuracy:  0.6095 Training Accuracy:  0.4677\n",
            "Iteration: 170 Test Accuracy:  0.6073 Training Accuracy:  0.492\n",
            "Iteration: 180 Test Accuracy:  0.5987 Training Accuracy:  0.4954\n",
            "Iteration: 190 Test Accuracy:  0.594 Training Accuracy:  0.5089\n",
            "Iteration: 200 Test Accuracy:  0.5899 Training Accuracy:  0.5218\n",
            "Iteration: 210 Test Accuracy:  0.5872 Training Accuracy:  0.527\n",
            "Iteration: 220 Test Accuracy:  0.5841 Training Accuracy:  0.5374\n",
            "Iteration: 230 Test Accuracy:  0.5852 Training Accuracy:  0.5425\n",
            "Iteration: 240 Test Accuracy:  0.5895 Training Accuracy:  0.5494\n",
            "Iteration: 250 Test Accuracy:  0.5921 Training Accuracy:  0.5598\n",
            "Iteration: 260 Test Accuracy:  0.5979 Training Accuracy:  0.5635\n",
            "Iteration: 270 Test Accuracy:  0.6059 Training Accuracy:  0.5711\n",
            "Iteration: 280 Test Accuracy:  0.6121 Training Accuracy:  0.5744\n",
            "Iteration: 290 Test Accuracy:  0.6206 Training Accuracy:  0.5916\n"
          ],
          "name": "stdout"
        }
      ]
    },
    {
      "cell_type": "markdown",
      "metadata": {
        "id": "jsU7NwLWEW1F"
      },
      "source": [
        "# Training using Keras"
      ]
    },
    {
      "cell_type": "code",
      "metadata": {
        "id": "a4dFklCnEcMs"
      },
      "source": [
        "import tensorflow as tf\n",
        "from tensorflow import keras\n",
        "from keras.models import Sequential\n",
        "from keras.layers import Dense, Dropout, Flatten\n",
        "from keras.layers import Conv2D, MaxPooling2D\n",
        "from tensorflow.keras import layers\n",
        "from keras import backend as K"
      ],
      "execution_count": 55,
      "outputs": []
    },
    {
      "cell_type": "markdown",
      "metadata": {
        "id": "xq0TLFadKO0p"
      },
      "source": [
        "## Reshaping images and defining hyper-parameters"
      ]
    },
    {
      "cell_type": "code",
      "metadata": {
        "id": "TZEyv3jvJOXo"
      },
      "source": [
        "# Model / data parameters\n",
        "num_classes = 10\n",
        "input_shape = (28, 28, 1)\n",
        "\n",
        "# the data, split between train and test sets\n",
        "(x_train, y_train), (x_test, y_test) = keras.datasets.mnist.load_data()\n",
        "\n",
        "# Scale images to the [0, 1] range\n",
        "x_train = x_train.astype(\"float32\") / 255\n",
        "x_test = x_test.astype(\"float32\") / 255\n",
        "# Make sure images have shape (28, 28, 1)\n",
        "x_train = np.expand_dims(x_train, -1)\n",
        "x_test = np.expand_dims(x_test, -1)\n",
        "print(\"x_train shape:\", x_train.shape)\n",
        "print(x_train.shape[0], \"train samples\")\n",
        "print(x_test.shape[0], \"test samples\")\n",
        "\n",
        "\n",
        "# convert class vectors to binary class matrices\n",
        "y_train = keras.utils.to_categorical(y_train, num_classes)\n",
        "y_test = keras.utils.to_categorical(y_test, num_classes)"
      ],
      "execution_count": 84,
      "outputs": []
    },
    {
      "cell_type": "code",
      "metadata": {
        "colab": {
          "base_uri": "https://localhost:8080/"
        },
        "id": "_lDPFpkAK9Tg",
        "outputId": "5904735e-1ae3-42cc-c81c-f94663c60914"
      },
      "source": [
        "# Shapes\n",
        "\n",
        "print(\"Training data shape: \", x_train.shape)\n",
        "print(\"Training label shape: \", y_train.shape)\n",
        "print(\"testing data shape: \", x_test.shape)\n",
        "print(\"testing label shape: \", y_test.shape)"
      ],
      "execution_count": 88,
      "outputs": [
        {
          "output_type": "stream",
          "text": [
            "Training data shape:  (60000, 28, 28, 1)\n",
            "Training label shape:  (60000, 10)\n",
            "testing data shape:  (10000, 28, 28, 1)\n",
            "testing label shape:  (10000, 10)\n"
          ],
          "name": "stdout"
        }
      ]
    },
    {
      "cell_type": "markdown",
      "metadata": {
        "id": "sHnRTORhKada"
      },
      "source": [
        "## Creating the model"
      ]
    },
    {
      "cell_type": "code",
      "metadata": {
        "colab": {
          "base_uri": "https://localhost:8080/"
        },
        "id": "NvRhXdNIE2Bc",
        "outputId": "cdb7382b-517b-42fe-a35a-6813d7f7293e"
      },
      "source": [
        "model = keras.Sequential(\n",
        "    [\n",
        "        keras.Input(shape=input_shape),\n",
        "        layers.Conv2D(32, kernel_size=(3, 3), activation=\"relu\"),\n",
        "        layers.MaxPooling2D(pool_size=(2, 2)),\n",
        "        layers.Conv2D(64, kernel_size=(3, 3), activation=\"relu\"),\n",
        "        layers.MaxPooling2D(pool_size=(2, 2)),\n",
        "        layers.Flatten(),\n",
        "        layers.Dropout(0.5),\n",
        "        layers.Dense(num_classes, activation=\"softmax\"),\n",
        "    ]\n",
        ")\n",
        "\n",
        "model.summary()"
      ],
      "execution_count": 90,
      "outputs": [
        {
          "output_type": "stream",
          "text": [
            "Model parameters = 1199882\n",
            "Model: \"sequential_20\"\n",
            "_________________________________________________________________\n",
            "Layer (type)                 Output Shape              Param #   \n",
            "=================================================================\n",
            "conv2d_8 (Conv2D)            (None, 26, 26, 32)        320       \n",
            "_________________________________________________________________\n",
            "conv2d_9 (Conv2D)            (None, 24, 24, 64)        18496     \n",
            "_________________________________________________________________\n",
            "max_pooling2d_4 (MaxPooling2 (None, 12, 12, 64)        0         \n",
            "_________________________________________________________________\n",
            "dropout_50 (Dropout)         (None, 12, 12, 64)        0         \n",
            "_________________________________________________________________\n",
            "flatten_4 (Flatten)          (None, 9216)              0         \n",
            "_________________________________________________________________\n",
            "dense_62 (Dense)             (None, 128)               1179776   \n",
            "_________________________________________________________________\n",
            "dropout_51 (Dropout)         (None, 128)               0         \n",
            "_________________________________________________________________\n",
            "dense_63 (Dense)             (None, 10)                1290      \n",
            "=================================================================\n",
            "Total params: 1,199,882\n",
            "Trainable params: 1,199,882\n",
            "Non-trainable params: 0\n",
            "_________________________________________________________________\n",
            "None\n"
          ],
          "name": "stdout"
        }
      ]
    },
    {
      "cell_type": "markdown",
      "metadata": {
        "id": "c57s6wW0KeUC"
      },
      "source": [
        "## Training"
      ]
    },
    {
      "cell_type": "code",
      "metadata": {
        "colab": {
          "base_uri": "https://localhost:8080/"
        },
        "id": "FQG9oqeFRe9r",
        "outputId": "0f6604da-4a56-49da-c32d-a758ebc92d15"
      },
      "source": [
        "batch_size = 128\n",
        "epochs = 15\n",
        "\n",
        "model.compile(loss=\"categorical_crossentropy\", optimizer=\"adam\", metrics=[\"accuracy\"])\n",
        "\n",
        "model.fit(x_train, y_train, batch_size=batch_size, epochs=epochs, validation_split=0.1)"
      ],
      "execution_count": 99,
      "outputs": [
        {
          "output_type": "stream",
          "text": [
            "Epoch 1/15\n",
            "422/422 [==============================] - 42s 98ms/step - loss: 0.7572 - accuracy: 0.7668 - val_loss: 0.0838 - val_accuracy: 0.9787\n",
            "Epoch 2/15\n",
            "422/422 [==============================] - 41s 98ms/step - loss: 0.1214 - accuracy: 0.9638 - val_loss: 0.0653 - val_accuracy: 0.9832\n",
            "Epoch 3/15\n",
            "422/422 [==============================] - 42s 98ms/step - loss: 0.0883 - accuracy: 0.9724 - val_loss: 0.0521 - val_accuracy: 0.9863\n",
            "Epoch 4/15\n",
            "422/422 [==============================] - 41s 98ms/step - loss: 0.0708 - accuracy: 0.9783 - val_loss: 0.0438 - val_accuracy: 0.9883\n",
            "Epoch 5/15\n",
            "422/422 [==============================] - 40s 96ms/step - loss: 0.0638 - accuracy: 0.9800 - val_loss: 0.0456 - val_accuracy: 0.9878\n",
            "Epoch 6/15\n",
            "422/422 [==============================] - 42s 99ms/step - loss: 0.0551 - accuracy: 0.9819 - val_loss: 0.0400 - val_accuracy: 0.9885\n",
            "Epoch 7/15\n",
            "422/422 [==============================] - 41s 97ms/step - loss: 0.0508 - accuracy: 0.9834 - val_loss: 0.0373 - val_accuracy: 0.9893\n",
            "Epoch 8/15\n",
            "422/422 [==============================] - 40s 96ms/step - loss: 0.0473 - accuracy: 0.9844 - val_loss: 0.0339 - val_accuracy: 0.9912\n",
            "Epoch 9/15\n",
            "422/422 [==============================] - 40s 96ms/step - loss: 0.0420 - accuracy: 0.9868 - val_loss: 0.0328 - val_accuracy: 0.9907\n",
            "Epoch 10/15\n",
            "422/422 [==============================] - 40s 96ms/step - loss: 0.0414 - accuracy: 0.9864 - val_loss: 0.0334 - val_accuracy: 0.9905\n",
            "Epoch 11/15\n",
            "422/422 [==============================] - 41s 96ms/step - loss: 0.0374 - accuracy: 0.9875 - val_loss: 0.0308 - val_accuracy: 0.9913\n",
            "Epoch 12/15\n",
            "422/422 [==============================] - 40s 96ms/step - loss: 0.0368 - accuracy: 0.9884 - val_loss: 0.0329 - val_accuracy: 0.9910\n",
            "Epoch 13/15\n",
            "422/422 [==============================] - 40s 96ms/step - loss: 0.0351 - accuracy: 0.9885 - val_loss: 0.0307 - val_accuracy: 0.9920\n",
            "Epoch 14/15\n",
            "422/422 [==============================] - 41s 97ms/step - loss: 0.0317 - accuracy: 0.9892 - val_loss: 0.0284 - val_accuracy: 0.9918\n",
            "Epoch 15/15\n",
            "422/422 [==============================] - 41s 98ms/step - loss: 0.0310 - accuracy: 0.9895 - val_loss: 0.0308 - val_accuracy: 0.9915\n"
          ],
          "name": "stdout"
        },
        {
          "output_type": "execute_result",
          "data": {
            "text/plain": [
              "<tensorflow.python.keras.callbacks.History at 0x7fe875bf4f90>"
            ]
          },
          "metadata": {
            "tags": []
          },
          "execution_count": 99
        }
      ]
    },
    {
      "cell_type": "code",
      "metadata": {
        "id": "9YsM_NrrRpmr"
      },
      "source": [
        ""
      ],
      "execution_count": null,
      "outputs": []
    }
  ]
}
{
  "nbformat": 4,
  "nbformat_minor": 0,
  "metadata": {
    "colab": {
      "name": "CMPE258 HW 5d.ipynb",
      "provenance": []
    },
    "kernelspec": {
      "name": "python3",
      "display_name": "Python 3"
    },
    "language_info": {
      "name": "python"
    },
    "accelerator": "GPU"
  },
  "cells": [
    {
      "cell_type": "code",
      "metadata": {
        "id": "wWPqB12K80cu"
      },
      "source": [
        "import numpy as np\n",
        "import pandas as pd\n",
        "\n",
        "import matplotlib.pyplot as plt\n",
        "import seaborn as sns\n",
        "% matplotlib inline"
      ],
      "execution_count": 1,
      "outputs": []
    },
    {
      "cell_type": "code",
      "metadata": {
        "colab": {
          "base_uri": "https://localhost:8080/"
        },
        "id": "v6nEC8Bn86Xm",
        "outputId": "1bbb16a6-fdc7-4015-db7a-ab8d5a811b4c"
      },
      "source": [
        "!pip install --upgrade --force-reinstall --no-deps kaggle"
      ],
      "execution_count": 2,
      "outputs": [
        {
          "output_type": "stream",
          "text": [
            "Collecting kaggle\n",
            "\u001b[?25l  Downloading https://files.pythonhosted.org/packages/3a/e7/3bac01547d2ed3d308ac92a0878fbdb0ed0f3d41fb1906c319ccbba1bfbc/kaggle-1.5.12.tar.gz (58kB)\n",
            "\r\u001b[K     |█████▋                          | 10kB 24.0MB/s eta 0:00:01\r\u001b[K     |███████████▏                    | 20kB 17.1MB/s eta 0:00:01\r\u001b[K     |████████████████▊               | 30kB 14.0MB/s eta 0:00:01\r\u001b[K     |██████████████████████▎         | 40kB 12.9MB/s eta 0:00:01\r\u001b[K     |███████████████████████████▉    | 51kB 8.5MB/s eta 0:00:01\r\u001b[K     |████████████████████████████████| 61kB 5.5MB/s \n",
            "\u001b[?25hBuilding wheels for collected packages: kaggle\n",
            "  Building wheel for kaggle (setup.py) ... \u001b[?25l\u001b[?25hdone\n",
            "  Created wheel for kaggle: filename=kaggle-1.5.12-cp37-none-any.whl size=73053 sha256=61dfcb76b5bcb5b5bab4f37e54372dd82f4a7a5b2f6be364cdc63aebe6be6c98\n",
            "  Stored in directory: /root/.cache/pip/wheels/a1/6a/26/d30b7499ff85a4a4593377a87ecf55f7d08af42f0de9b60303\n",
            "Successfully built kaggle\n",
            "Installing collected packages: kaggle\n",
            "  Found existing installation: kaggle 1.5.12\n",
            "    Uninstalling kaggle-1.5.12:\n",
            "      Successfully uninstalled kaggle-1.5.12\n",
            "Successfully installed kaggle-1.5.12\n"
          ],
          "name": "stdout"
        }
      ]
    },
    {
      "cell_type": "code",
      "metadata": {
        "colab": {
          "base_uri": "https://localhost:8080/"
        },
        "id": "UgI8MUCF89eV",
        "outputId": "b74b5393-73be-4a37-823d-7f98741bcbd2"
      },
      "source": [
        "%env KAGGLE_USERNAME =jimmyliang4433\n",
        "%env KAGGLE_KEY =cce4383c4242c5aab6a9feae7491ed8d"
      ],
      "execution_count": 3,
      "outputs": [
        {
          "output_type": "stream",
          "text": [
            "env: KAGGLE_USERNAME=jimmyliang4433\n",
            "env: KAGGLE_KEY=cce4383c4242c5aab6a9feae7491ed8d\n"
          ],
          "name": "stdout"
        }
      ]
    },
    {
      "cell_type": "code",
      "metadata": {
        "colab": {
          "base_uri": "https://localhost:8080/"
        },
        "id": "8WXzS2hH9eyH",
        "outputId": "41866d69-5861-4655-c039-3fe2554c7ae3"
      },
      "source": [
        "!kaggle competitions download -c new-york-city-taxi-fare-prediction"
      ],
      "execution_count": 4,
      "outputs": [
        {
          "output_type": "stream",
          "text": [
            "Downloading new-york-city-taxi-fare-prediction.zip to /content\n",
            "100% 1.56G/1.56G [00:14<00:00, 102MB/s]\n",
            "100% 1.56G/1.56G [00:14<00:00, 119MB/s]\n"
          ],
          "name": "stdout"
        }
      ]
    },
    {
      "cell_type": "code",
      "metadata": {
        "colab": {
          "base_uri": "https://localhost:8080/"
        },
        "id": "mJEfSnP79wjP",
        "outputId": "b511f390-263d-4bf7-f89f-9cc74194b478"
      },
      "source": [
        "!unzip *.zip"
      ],
      "execution_count": 7,
      "outputs": [
        {
          "output_type": "stream",
          "text": [
            "Archive:  new-york-city-taxi-fare-prediction.zip\n",
            "  inflating: GCP-Coupons-Instructions.rtf  \n",
            "  inflating: sample_submission.csv   \n",
            "  inflating: test.csv                \n",
            "  inflating: train.csv               \n"
          ],
          "name": "stdout"
        }
      ]
    },
    {
      "cell_type": "code",
      "metadata": {
        "colab": {
          "base_uri": "https://localhost:8080/",
          "height": 326
        },
        "id": "okOVWd_09hcd",
        "outputId": "7699f62d-1626-4418-986b-1520cd758e15"
      },
      "source": [
        "train = pd.read_csv(\"train.csv\", nrows = 500000)\n",
        "print(\"shape of train data\", train.shape)\n",
        "train.head()"
      ],
      "execution_count": 8,
      "outputs": [
        {
          "output_type": "stream",
          "text": [
            "shape of train data (500000, 8)\n"
          ],
          "name": "stdout"
        },
        {
          "output_type": "execute_result",
          "data": {
            "text/html": [
              "<div>\n",
              "<style scoped>\n",
              "    .dataframe tbody tr th:only-of-type {\n",
              "        vertical-align: middle;\n",
              "    }\n",
              "\n",
              "    .dataframe tbody tr th {\n",
              "        vertical-align: top;\n",
              "    }\n",
              "\n",
              "    .dataframe thead th {\n",
              "        text-align: right;\n",
              "    }\n",
              "</style>\n",
              "<table border=\"1\" class=\"dataframe\">\n",
              "  <thead>\n",
              "    <tr style=\"text-align: right;\">\n",
              "      <th></th>\n",
              "      <th>key</th>\n",
              "      <th>fare_amount</th>\n",
              "      <th>pickup_datetime</th>\n",
              "      <th>pickup_longitude</th>\n",
              "      <th>pickup_latitude</th>\n",
              "      <th>dropoff_longitude</th>\n",
              "      <th>dropoff_latitude</th>\n",
              "      <th>passenger_count</th>\n",
              "    </tr>\n",
              "  </thead>\n",
              "  <tbody>\n",
              "    <tr>\n",
              "      <th>0</th>\n",
              "      <td>2009-06-15 17:26:21.0000001</td>\n",
              "      <td>4.5</td>\n",
              "      <td>2009-06-15 17:26:21 UTC</td>\n",
              "      <td>-73.844311</td>\n",
              "      <td>40.721319</td>\n",
              "      <td>-73.841610</td>\n",
              "      <td>40.712278</td>\n",
              "      <td>1</td>\n",
              "    </tr>\n",
              "    <tr>\n",
              "      <th>1</th>\n",
              "      <td>2010-01-05 16:52:16.0000002</td>\n",
              "      <td>16.9</td>\n",
              "      <td>2010-01-05 16:52:16 UTC</td>\n",
              "      <td>-74.016048</td>\n",
              "      <td>40.711303</td>\n",
              "      <td>-73.979268</td>\n",
              "      <td>40.782004</td>\n",
              "      <td>1</td>\n",
              "    </tr>\n",
              "    <tr>\n",
              "      <th>2</th>\n",
              "      <td>2011-08-18 00:35:00.00000049</td>\n",
              "      <td>5.7</td>\n",
              "      <td>2011-08-18 00:35:00 UTC</td>\n",
              "      <td>-73.982738</td>\n",
              "      <td>40.761270</td>\n",
              "      <td>-73.991242</td>\n",
              "      <td>40.750562</td>\n",
              "      <td>2</td>\n",
              "    </tr>\n",
              "    <tr>\n",
              "      <th>3</th>\n",
              "      <td>2012-04-21 04:30:42.0000001</td>\n",
              "      <td>7.7</td>\n",
              "      <td>2012-04-21 04:30:42 UTC</td>\n",
              "      <td>-73.987130</td>\n",
              "      <td>40.733143</td>\n",
              "      <td>-73.991567</td>\n",
              "      <td>40.758092</td>\n",
              "      <td>1</td>\n",
              "    </tr>\n",
              "    <tr>\n",
              "      <th>4</th>\n",
              "      <td>2010-03-09 07:51:00.000000135</td>\n",
              "      <td>5.3</td>\n",
              "      <td>2010-03-09 07:51:00 UTC</td>\n",
              "      <td>-73.968095</td>\n",
              "      <td>40.768008</td>\n",
              "      <td>-73.956655</td>\n",
              "      <td>40.783762</td>\n",
              "      <td>1</td>\n",
              "    </tr>\n",
              "  </tbody>\n",
              "</table>\n",
              "</div>"
            ],
            "text/plain": [
              "                             key  ...  passenger_count\n",
              "0    2009-06-15 17:26:21.0000001  ...                1\n",
              "1    2010-01-05 16:52:16.0000002  ...                1\n",
              "2   2011-08-18 00:35:00.00000049  ...                2\n",
              "3    2012-04-21 04:30:42.0000001  ...                1\n",
              "4  2010-03-09 07:51:00.000000135  ...                1\n",
              "\n",
              "[5 rows x 8 columns]"
            ]
          },
          "metadata": {
            "tags": []
          },
          "execution_count": 8
        }
      ]
    },
    {
      "cell_type": "code",
      "metadata": {
        "colab": {
          "base_uri": "https://localhost:8080/"
        },
        "id": "OO2JFp0E9rj2",
        "outputId": "f43a606c-756e-4618-f1a2-33cf672ec98a"
      },
      "source": [
        "print(\"old size: %d\" % len(train))\n",
        "train = train[train.fare_amount >=0]\n",
        "print(\"New size: %d\" % len(train))"
      ],
      "execution_count": 9,
      "outputs": [
        {
          "output_type": "stream",
          "text": [
            "old size: 500000\n",
            "New size: 499979\n"
          ],
          "name": "stdout"
        }
      ]
    },
    {
      "cell_type": "code",
      "metadata": {
        "colab": {
          "base_uri": "https://localhost:8080/"
        },
        "id": "52qM2X6H-XT-",
        "outputId": "3f215430-41aa-434c-d8a1-4650a1f8cd91"
      },
      "source": [
        "print(\"old size: %d\" % len(train))\n",
        "train = train.dropna(how='any', axis=0)\n",
        "print(\"New size after dropping missing value: %d\" % len(train))"
      ],
      "execution_count": 11,
      "outputs": [
        {
          "output_type": "stream",
          "text": [
            "old size: 499979\n",
            "New size after dropping missing value: 499974\n"
          ],
          "name": "stdout"
        }
      ]
    },
    {
      "cell_type": "code",
      "metadata": {
        "colab": {
          "base_uri": "https://localhost:8080/"
        },
        "id": "ewZ-9vZ5-bNV",
        "outputId": "396fe06f-84ac-4b0f-a214-2394147eaf42"
      },
      "source": [
        "train[train.passenger_count ==0].shape"
      ],
      "execution_count": 15,
      "outputs": [
        {
          "output_type": "execute_result",
          "data": {
            "text/plain": [
              "(1791, 8)"
            ]
          },
          "metadata": {
            "tags": []
          },
          "execution_count": 15
        }
      ]
    },
    {
      "cell_type": "code",
      "metadata": {
        "colab": {
          "base_uri": "https://localhost:8080/",
          "height": 306
        },
        "id": "E7Q05AOB-pf2",
        "outputId": "0512491f-79b1-4b49-c4c4-e44a8e7b0eeb"
      },
      "source": [
        "test = pd.read_csv(\"test.csv\")\n",
        "print(\"shape of test data\", test.shape)\n",
        "test.head()"
      ],
      "execution_count": 16,
      "outputs": [
        {
          "output_type": "stream",
          "text": [
            "shape of test data (9914, 7)\n"
          ],
          "name": "stdout"
        },
        {
          "output_type": "execute_result",
          "data": {
            "text/html": [
              "<div>\n",
              "<style scoped>\n",
              "    .dataframe tbody tr th:only-of-type {\n",
              "        vertical-align: middle;\n",
              "    }\n",
              "\n",
              "    .dataframe tbody tr th {\n",
              "        vertical-align: top;\n",
              "    }\n",
              "\n",
              "    .dataframe thead th {\n",
              "        text-align: right;\n",
              "    }\n",
              "</style>\n",
              "<table border=\"1\" class=\"dataframe\">\n",
              "  <thead>\n",
              "    <tr style=\"text-align: right;\">\n",
              "      <th></th>\n",
              "      <th>key</th>\n",
              "      <th>pickup_datetime</th>\n",
              "      <th>pickup_longitude</th>\n",
              "      <th>pickup_latitude</th>\n",
              "      <th>dropoff_longitude</th>\n",
              "      <th>dropoff_latitude</th>\n",
              "      <th>passenger_count</th>\n",
              "    </tr>\n",
              "  </thead>\n",
              "  <tbody>\n",
              "    <tr>\n",
              "      <th>0</th>\n",
              "      <td>2015-01-27 13:08:24.0000002</td>\n",
              "      <td>2015-01-27 13:08:24 UTC</td>\n",
              "      <td>-73.973320</td>\n",
              "      <td>40.763805</td>\n",
              "      <td>-73.981430</td>\n",
              "      <td>40.743835</td>\n",
              "      <td>1</td>\n",
              "    </tr>\n",
              "    <tr>\n",
              "      <th>1</th>\n",
              "      <td>2015-01-27 13:08:24.0000003</td>\n",
              "      <td>2015-01-27 13:08:24 UTC</td>\n",
              "      <td>-73.986862</td>\n",
              "      <td>40.719383</td>\n",
              "      <td>-73.998886</td>\n",
              "      <td>40.739201</td>\n",
              "      <td>1</td>\n",
              "    </tr>\n",
              "    <tr>\n",
              "      <th>2</th>\n",
              "      <td>2011-10-08 11:53:44.0000002</td>\n",
              "      <td>2011-10-08 11:53:44 UTC</td>\n",
              "      <td>-73.982524</td>\n",
              "      <td>40.751260</td>\n",
              "      <td>-73.979654</td>\n",
              "      <td>40.746139</td>\n",
              "      <td>1</td>\n",
              "    </tr>\n",
              "    <tr>\n",
              "      <th>3</th>\n",
              "      <td>2012-12-01 21:12:12.0000002</td>\n",
              "      <td>2012-12-01 21:12:12 UTC</td>\n",
              "      <td>-73.981160</td>\n",
              "      <td>40.767807</td>\n",
              "      <td>-73.990448</td>\n",
              "      <td>40.751635</td>\n",
              "      <td>1</td>\n",
              "    </tr>\n",
              "    <tr>\n",
              "      <th>4</th>\n",
              "      <td>2012-12-01 21:12:12.0000003</td>\n",
              "      <td>2012-12-01 21:12:12 UTC</td>\n",
              "      <td>-73.966046</td>\n",
              "      <td>40.789775</td>\n",
              "      <td>-73.988565</td>\n",
              "      <td>40.744427</td>\n",
              "      <td>1</td>\n",
              "    </tr>\n",
              "  </tbody>\n",
              "</table>\n",
              "</div>"
            ],
            "text/plain": [
              "                           key  ... passenger_count\n",
              "0  2015-01-27 13:08:24.0000002  ...               1\n",
              "1  2015-01-27 13:08:24.0000003  ...               1\n",
              "2  2011-10-08 11:53:44.0000002  ...               1\n",
              "3  2012-12-01 21:12:12.0000002  ...               1\n",
              "4  2012-12-01 21:12:12.0000003  ...               1\n",
              "\n",
              "[5 rows x 7 columns]"
            ]
          },
          "metadata": {
            "tags": []
          },
          "execution_count": 16
        }
      ]
    },
    {
      "cell_type": "code",
      "metadata": {
        "colab": {
          "base_uri": "https://localhost:8080/"
        },
        "id": "ffcHbjPd_GmO",
        "outputId": "fd8f78e1-9318-4c6f-c8e7-43d991cd82f7"
      },
      "source": [
        "min(test.pickup_longitude.min(),test.dropoff_longitude.min()), \\\n",
        "max(test.pickup_longitude.max(),test.dropoff_longitude.max())"
      ],
      "execution_count": 17,
      "outputs": [
        {
          "output_type": "execute_result",
          "data": {
            "text/plain": [
              "(-74.263242, -72.986532)"
            ]
          },
          "metadata": {
            "tags": []
          },
          "execution_count": 17
        }
      ]
    },
    {
      "cell_type": "code",
      "metadata": {
        "colab": {
          "base_uri": "https://localhost:8080/"
        },
        "id": "Dpnw5DZ2_Obf",
        "outputId": "0896db59-1691-4dcd-d6c4-fbdffc0b0005"
      },
      "source": [
        "min(test.pickup_latitude.min(),test.dropoff_latitude.min()), \\\n",
        "max(test.pickup_latitude.max(),test.dropoff_latitude.max())"
      ],
      "execution_count": 18,
      "outputs": [
        {
          "output_type": "execute_result",
          "data": {
            "text/plain": [
              "(40.568973, 41.709555)"
            ]
          },
          "metadata": {
            "tags": []
          },
          "execution_count": 18
        }
      ]
    },
    {
      "cell_type": "code",
      "metadata": {
        "id": "O6RqLwTY_X13"
      },
      "source": [
        "def select_within_test_boundary(df, BB):\n",
        "    return (df.pickup_longitude >= BB[0]) & (df.pickup_longitude <= BB[1]) & \\\n",
        "           (df.pickup_latitude >= BB[2]) & (df.pickup_latitude <= BB[3]) & \\\n",
        "           (df.dropoff_longitude >= BB[0]) & (df.dropoff_longitude <= BB[1]) & \\\n",
        "           (df.dropoff_latitude >= BB[2]) & (df.dropoff_latitude <= BB[3])"
      ],
      "execution_count": 19,
      "outputs": []
    },
    {
      "cell_type": "code",
      "metadata": {
        "colab": {
          "base_uri": "https://localhost:8080/"
        },
        "id": "xlMbG5Wa_ce3",
        "outputId": "75d59756-4cff-454f-dd2e-48ef36bf17db"
      },
      "source": [
        "BB = (-74.5, -72.8, 40.5, 41.8)\n",
        "print('Old size: %d' % len(train))\n",
        "train = train[select_within_test_boundary(train, BB)]\n",
        "print('New size: %d' % len(train))"
      ],
      "execution_count": 20,
      "outputs": [
        {
          "output_type": "stream",
          "text": [
            "Old size: 499974\n",
            "New size: 489464\n"
          ],
          "name": "stdout"
        }
      ]
    },
    {
      "cell_type": "code",
      "metadata": {
        "id": "ivK6UboT_lrH"
      },
      "source": [
        ""
      ],
      "execution_count": null,
      "outputs": []
    },
    {
      "cell_type": "markdown",
      "metadata": {
        "id": "MiX88dFO_r_U"
      },
      "source": [
        "# Feature Engineering"
      ]
    },
    {
      "cell_type": "code",
      "metadata": {
        "id": "GE7z1GLc_tzI"
      },
      "source": [
        "def prepare_time_features(df):\n",
        "    df['pickup_datetime'] = df['pickup_datetime'].str.slice(0, 16)\n",
        "    df['pickup_datetime'] = pd.to_datetime(df['pickup_datetime'], utc=True, format='%Y-%m-%d %H:%M')\n",
        "    df['hour_of_day'] = df.pickup_datetime.dt.hour\n",
        "#     df['week'] = df.pickup_datetime.dt.week\n",
        "    df['month'] = df.pickup_datetime.dt.month\n",
        "    df[\"year\"] = df.pickup_datetime.dt.year\n",
        "#     df['day_of_year'] = df.pickup_datetime.dt.dayofyear\n",
        "#     df['week_of_year'] = df.pickup_datetime.dt.weekofyear\n",
        "    df[\"weekday\"] = df.pickup_datetime.dt.weekday\n",
        "#     df[\"quarter\"] = df.pickup_datetime.dt.quarter\n",
        "#     df[\"day_of_month\"] = df.pickup_datetime.dt.day\n",
        "    \n",
        "    return df"
      ],
      "execution_count": 21,
      "outputs": []
    },
    {
      "cell_type": "code",
      "metadata": {
        "id": "S0OxOuyP_vhw"
      },
      "source": [
        "train = prepare_time_features(train)\n",
        "test = prepare_time_features(test)"
      ],
      "execution_count": 22,
      "outputs": []
    },
    {
      "cell_type": "code",
      "metadata": {
        "id": "I28o9tVg_xuo"
      },
      "source": [
        "# calculate-distance-between-two-latitude-longitude-points-haversine-formula \n",
        "# Returns distance in miles\n",
        "def distance(lat1, lon1, lat2, lon2):\n",
        "    p = 0.017453292519943295 # Pi/180\n",
        "    a = 0.5 - np.cos((lat2 - lat1) * p)/2 + np.cos(lat1 * p) * np.cos(lat2 * p) * (1 - np.cos((lon2 - lon1) * p)) / 2\n",
        "    return 0.6213712 * 12742 * np.arcsin(np.sqrt(a))   # 2*R*asin..."
      ],
      "execution_count": 23,
      "outputs": []
    },
    {
      "cell_type": "code",
      "metadata": {
        "id": "b1TwHPjx_1-J"
      },
      "source": [
        "train['distance_miles'] = distance(train.pickup_latitude, train.pickup_longitude, \\\n",
        "                                      train.dropoff_latitude, train.dropoff_longitude)"
      ],
      "execution_count": 24,
      "outputs": []
    },
    {
      "cell_type": "code",
      "metadata": {
        "id": "Jr8Z1JPK_3h4"
      },
      "source": [
        "test['distance_miles'] = distance(test.pickup_latitude, test.pickup_longitude, \\\n",
        "                                      test.dropoff_latitude, test.dropoff_longitude)"
      ],
      "execution_count": 25,
      "outputs": []
    },
    {
      "cell_type": "code",
      "metadata": {
        "id": "Jhu_NtYA_5Gg"
      },
      "source": [
        "def transform(data):\n",
        "    # Distances to nearby airports, \n",
        "    jfk = (-73.7781, 40.6413)\n",
        "    ewr = (-74.1745, 40.6895)\n",
        "    lgr = (-73.8740, 40.7769)\n",
        "\n",
        "    data['pickup_distance_to_jfk'] = distance(jfk[1], jfk[0],\n",
        "                                         data['pickup_latitude'], data['pickup_longitude'])\n",
        "    data['dropoff_distance_to_jfk'] = distance(jfk[1], jfk[0],\n",
        "                                           data['dropoff_latitude'], data['dropoff_longitude'])\n",
        "    data['pickup_distance_to_ewr'] = distance(ewr[1], ewr[0], \n",
        "                                          data['pickup_latitude'], data['pickup_longitude'])\n",
        "    data['dropoff_distance_to_ewr'] = distance(ewr[1], ewr[0],\n",
        "                                           data['dropoff_latitude'], data['dropoff_longitude'])\n",
        "    data['pickup_distance_to_lgr'] = distance(lgr[1], lgr[0],\n",
        "                                          data['pickup_latitude'], data['pickup_longitude'])\n",
        "    data['dropoff_distance_to_lgr'] = distance(lgr[1], lgr[0],\n",
        "                                           data['dropoff_latitude'], data['dropoff_longitude'])\n",
        "    \n",
        "    return data\n",
        "\n",
        "train = transform(train)\n",
        "test = transform(test)"
      ],
      "execution_count": 26,
      "outputs": []
    },
    {
      "cell_type": "code",
      "metadata": {
        "colab": {
          "base_uri": "https://localhost:8080/",
          "height": 165
        },
        "id": "iOV92hcQ_7b4",
        "outputId": "dfa6c2b3-ad2d-4a3e-fda7-290637edc754"
      },
      "source": [
        "train[(train['distance_miles']==0)&(train['fare_amount']==0)]"
      ],
      "execution_count": 27,
      "outputs": [
        {
          "output_type": "execute_result",
          "data": {
            "text/html": [
              "<div>\n",
              "<style scoped>\n",
              "    .dataframe tbody tr th:only-of-type {\n",
              "        vertical-align: middle;\n",
              "    }\n",
              "\n",
              "    .dataframe tbody tr th {\n",
              "        vertical-align: top;\n",
              "    }\n",
              "\n",
              "    .dataframe thead th {\n",
              "        text-align: right;\n",
              "    }\n",
              "</style>\n",
              "<table border=\"1\" class=\"dataframe\">\n",
              "  <thead>\n",
              "    <tr style=\"text-align: right;\">\n",
              "      <th></th>\n",
              "      <th>key</th>\n",
              "      <th>fare_amount</th>\n",
              "      <th>pickup_datetime</th>\n",
              "      <th>pickup_longitude</th>\n",
              "      <th>pickup_latitude</th>\n",
              "      <th>dropoff_longitude</th>\n",
              "      <th>dropoff_latitude</th>\n",
              "      <th>passenger_count</th>\n",
              "      <th>hour_of_day</th>\n",
              "      <th>month</th>\n",
              "      <th>year</th>\n",
              "      <th>weekday</th>\n",
              "      <th>distance_miles</th>\n",
              "      <th>pickup_distance_to_jfk</th>\n",
              "      <th>dropoff_distance_to_jfk</th>\n",
              "      <th>pickup_distance_to_ewr</th>\n",
              "      <th>dropoff_distance_to_ewr</th>\n",
              "      <th>pickup_distance_to_lgr</th>\n",
              "      <th>dropoff_distance_to_lgr</th>\n",
              "    </tr>\n",
              "  </thead>\n",
              "  <tbody>\n",
              "    <tr>\n",
              "      <th>331597</th>\n",
              "      <td>2013-08-05 06:45:54.0000005</td>\n",
              "      <td>0.0</td>\n",
              "      <td>2013-08-05 06:45:00+00:00</td>\n",
              "      <td>-73.982354</td>\n",
              "      <td>40.679971</td>\n",
              "      <td>-73.982354</td>\n",
              "      <td>40.679971</td>\n",
              "      <td>1</td>\n",
              "      <td>6</td>\n",
              "      <td>8</td>\n",
              "      <td>2013</td>\n",
              "      <td>0</td>\n",
              "      <td>0.0</td>\n",
              "      <td>11.033947</td>\n",
              "      <td>11.033947</td>\n",
              "      <td>10.088806</td>\n",
              "      <td>10.088806</td>\n",
              "      <td>8.777184</td>\n",
              "      <td>8.777184</td>\n",
              "    </tr>\n",
              "    <tr>\n",
              "      <th>436658</th>\n",
              "      <td>2015-03-04 22:33:39.0000008</td>\n",
              "      <td>0.0</td>\n",
              "      <td>2015-03-04 22:33:00+00:00</td>\n",
              "      <td>-74.043442</td>\n",
              "      <td>40.788208</td>\n",
              "      <td>-74.043442</td>\n",
              "      <td>40.788208</td>\n",
              "      <td>1</td>\n",
              "      <td>22</td>\n",
              "      <td>3</td>\n",
              "      <td>2015</td>\n",
              "      <td>2</td>\n",
              "      <td>0.0</td>\n",
              "      <td>17.208424</td>\n",
              "      <td>17.208424</td>\n",
              "      <td>9.674078</td>\n",
              "      <td>9.674078</td>\n",
              "      <td>8.899057</td>\n",
              "      <td>8.899057</td>\n",
              "    </tr>\n",
              "  </tbody>\n",
              "</table>\n",
              "</div>"
            ],
            "text/plain": [
              "                                key  ...  dropoff_distance_to_lgr\n",
              "331597  2013-08-05 06:45:54.0000005  ...                 8.777184\n",
              "436658  2015-03-04 22:33:39.0000008  ...                 8.899057\n",
              "\n",
              "[2 rows x 19 columns]"
            ]
          },
          "metadata": {
            "tags": []
          },
          "execution_count": 27
        }
      ]
    },
    {
      "cell_type": "code",
      "metadata": {
        "colab": {
          "base_uri": "https://localhost:8080/"
        },
        "id": "4tyx556L_86w",
        "outputId": "c043c6a1-33df-4bfd-b4a9-305ac0aa222a"
      },
      "source": [
        "print(\"old size: %d\" % len(train))\n",
        "train = train.drop(index= train[(train['distance_miles']==0)&(train['fare_amount']==0)].index, axis=0)\n",
        "print(\"New size: %d\" % len(train))"
      ],
      "execution_count": 28,
      "outputs": [
        {
          "output_type": "stream",
          "text": [
            "old size: 489464\n",
            "New size: 489462\n"
          ],
          "name": "stdout"
        }
      ]
    },
    {
      "cell_type": "code",
      "metadata": {
        "colab": {
          "base_uri": "https://localhost:8080/"
        },
        "id": "zRfmCdfK__yA",
        "outputId": "e1de4555-4ff2-4dc3-cd2c-003e9f90dd3d"
      },
      "source": [
        "train[train['fare_amount']==0].shape"
      ],
      "execution_count": 29,
      "outputs": [
        {
          "output_type": "execute_result",
          "data": {
            "text/plain": [
              "(11, 19)"
            ]
          },
          "metadata": {
            "tags": []
          },
          "execution_count": 29
        }
      ]
    },
    {
      "cell_type": "code",
      "metadata": {
        "colab": {
          "base_uri": "https://localhost:8080/"
        },
        "id": "fJIkQEskAEHv",
        "outputId": "5b476939-749d-4706-9d1a-5f51e675945c"
      },
      "source": [
        "print(\"old size: %d\" % len(train))\n",
        "train = train.drop(index= train[train['fare_amount']==0].index, axis=0)\n",
        "print(\"New size: %d\" % len(train))"
      ],
      "execution_count": 30,
      "outputs": [
        {
          "output_type": "stream",
          "text": [
            "old size: 489462\n",
            "New size: 489451\n"
          ],
          "name": "stdout"
        }
      ]
    },
    {
      "cell_type": "code",
      "metadata": {
        "colab": {
          "base_uri": "https://localhost:8080/"
        },
        "id": "1y5xEBxjAFVI",
        "outputId": "08c8290d-3227-4bec-c48a-aa78bf3908fc"
      },
      "source": [
        "train[train['fare_amount'] < 2.5].shape"
      ],
      "execution_count": 31,
      "outputs": [
        {
          "output_type": "execute_result",
          "data": {
            "text/plain": [
              "(5, 19)"
            ]
          },
          "metadata": {
            "tags": []
          },
          "execution_count": 31
        }
      ]
    },
    {
      "cell_type": "code",
      "metadata": {
        "colab": {
          "base_uri": "https://localhost:8080/"
        },
        "id": "8TUJUMQsAH94",
        "outputId": "b0930cc4-6e9d-4f62-ed12-386a06692fc7"
      },
      "source": [
        "print(\"old size: %d\" % len(train))\n",
        "train = train.drop(index= train[train['fare_amount'] < 2.5].index, axis=0)\n",
        "print(\"New size: %d\" % len(train))"
      ],
      "execution_count": 32,
      "outputs": [
        {
          "output_type": "stream",
          "text": [
            "old size: 489451\n",
            "New size: 489446\n"
          ],
          "name": "stdout"
        }
      ]
    },
    {
      "cell_type": "code",
      "metadata": {
        "colab": {
          "base_uri": "https://localhost:8080/"
        },
        "id": "u33b6BTGAJiY",
        "outputId": "2314afca-3a65-4d3c-af55-d1fdf0838c0c"
      },
      "source": [
        "fare_100 = train[train.fare_amount > 100]\n",
        "fare_100.shape"
      ],
      "execution_count": 33,
      "outputs": [
        {
          "output_type": "execute_result",
          "data": {
            "text/plain": [
              "(182, 19)"
            ]
          },
          "metadata": {
            "tags": []
          },
          "execution_count": 33
        }
      ]
    },
    {
      "cell_type": "code",
      "metadata": {
        "colab": {
          "base_uri": "https://localhost:8080/"
        },
        "id": "OcPDtk_nAWIg",
        "outputId": "cb465efb-2cbf-4ae7-9432-d661f26bc701"
      },
      "source": [
        "fare_100[fare_100.distance_miles <1].shape"
      ],
      "execution_count": 34,
      "outputs": [
        {
          "output_type": "execute_result",
          "data": {
            "text/plain": [
              "(70, 19)"
            ]
          },
          "metadata": {
            "tags": []
          },
          "execution_count": 34
        }
      ]
    },
    {
      "cell_type": "code",
      "metadata": {
        "colab": {
          "base_uri": "https://localhost:8080/"
        },
        "id": "z26ZZPGzAYfY",
        "outputId": "ac45df59-79d9-4dc7-d4dc-164fb2183e9f"
      },
      "source": [
        "# create copy of the data set\n",
        "df_train = train.drop(columns= ['key','pickup_datetime'], axis= 1).copy()\n",
        "df_test = test.drop(columns= ['key','pickup_datetime'], axis= 1).copy()\n",
        "print(df_train.shape)\n",
        "print(df_test.shape)"
      ],
      "execution_count": 35,
      "outputs": [
        {
          "output_type": "stream",
          "text": [
            "(489446, 17)\n",
            "(9914, 16)\n"
          ],
          "name": "stdout"
        }
      ]
    },
    {
      "cell_type": "code",
      "metadata": {
        "id": "gxhg8IvwAfDx"
      },
      "source": [
        ""
      ],
      "execution_count": null,
      "outputs": []
    },
    {
      "cell_type": "markdown",
      "metadata": {
        "id": "n8q-At6qAhkv"
      },
      "source": [
        "# Train Test Split"
      ]
    },
    {
      "cell_type": "code",
      "metadata": {
        "colab": {
          "base_uri": "https://localhost:8080/"
        },
        "id": "fDsDheyEAjwx",
        "outputId": "c9f487dc-8e28-4aa0-f1cf-49440054ca44"
      },
      "source": [
        "from sklearn.model_selection import train_test_split \n",
        "X_train, X_test, y_train, y_test = train_test_split(df_train.drop('fare_amount', axis=1),\n",
        "                                                    df_train['fare_amount'], test_size=0.2, random_state = 42)\n",
        "print(X_train.shape)\n",
        "print(X_test.shape)\n",
        "print(y_train.shape)\n",
        "print(y_test.shape)"
      ],
      "execution_count": 36,
      "outputs": [
        {
          "output_type": "stream",
          "text": [
            "(391556, 16)\n",
            "(97890, 16)\n",
            "(391556,)\n",
            "(97890,)\n"
          ],
          "name": "stdout"
        }
      ]
    },
    {
      "cell_type": "code",
      "metadata": {
        "id": "Hvy7NxkiAlIZ"
      },
      "source": [
        ""
      ],
      "execution_count": null,
      "outputs": []
    },
    {
      "cell_type": "markdown",
      "metadata": {
        "id": "e9ZCagIiAnP8"
      },
      "source": [
        "# Modeling"
      ]
    },
    {
      "cell_type": "code",
      "metadata": {
        "id": "pW5HuAyoAo-B"
      },
      "source": [
        "import xgboost as xgb"
      ],
      "execution_count": 37,
      "outputs": []
    },
    {
      "cell_type": "code",
      "metadata": {
        "id": "GGFjZIUZApfR"
      },
      "source": [
        "params = {\n",
        "   \n",
        "    'max_depth': 7,\n",
        "    'gamma' :0,\n",
        "    'eta':.03, \n",
        "    'subsample': 1,\n",
        "    'colsample_bytree': 0.9, \n",
        "    'objective':'reg:linear',\n",
        "    'eval_metric':'rmse',\n",
        "    'silent': 0\n",
        "}"
      ],
      "execution_count": 38,
      "outputs": []
    },
    {
      "cell_type": "code",
      "metadata": {
        "id": "Wx2ShDjxAqe5"
      },
      "source": [
        "def XGBmodel(X_train,X_test,y_train,y_test,params):\n",
        "    matrix_train = xgb.DMatrix(X_train,label=y_train)\n",
        "    matrix_test = xgb.DMatrix(X_test,label=y_test)\n",
        "    model=xgb.train(params=params,\n",
        "                    dtrain=matrix_train,num_boost_round=5000, \n",
        "                    early_stopping_rounds=10,evals=[(matrix_test,'test')])\n",
        "    return model"
      ],
      "execution_count": 39,
      "outputs": []
    },
    {
      "cell_type": "code",
      "metadata": {
        "colab": {
          "base_uri": "https://localhost:8080/"
        },
        "id": "xfateMdvAs4S",
        "outputId": "edcaf674-d405-4b17-d830-f38c9f46a75e"
      },
      "source": [
        "model = XGBmodel(X_train,X_test,y_train,y_test,params)\n"
      ],
      "execution_count": 40,
      "outputs": [
        {
          "output_type": "stream",
          "text": [
            "[21:21:55] WARNING: /workspace/src/objective/regression_obj.cu:152: reg:linear is now deprecated in favor of reg:squarederror.\n",
            "[0]\ttest-rmse:14.183\n",
            "Will train until test-rmse hasn't improved in 10 rounds.\n",
            "[1]\ttest-rmse:13.8007\n",
            "[2]\ttest-rmse:13.4505\n",
            "[3]\ttest-rmse:13.0921\n",
            "[4]\ttest-rmse:12.7455\n",
            "[5]\ttest-rmse:12.4103\n",
            "[6]\ttest-rmse:12.0859\n",
            "[7]\ttest-rmse:11.773\n",
            "[8]\ttest-rmse:11.4705\n",
            "[9]\ttest-rmse:11.1783\n",
            "[10]\ttest-rmse:10.9123\n",
            "[11]\ttest-rmse:10.6397\n",
            "[12]\ttest-rmse:10.3764\n",
            "[13]\ttest-rmse:10.1221\n",
            "[14]\ttest-rmse:9.87629\n",
            "[15]\ttest-rmse:9.63788\n",
            "[16]\ttest-rmse:9.40883\n",
            "[17]\ttest-rmse:9.18819\n",
            "[18]\ttest-rmse:8.97625\n",
            "[19]\ttest-rmse:8.77059\n",
            "[20]\ttest-rmse:8.57353\n",
            "[21]\ttest-rmse:8.38351\n",
            "[22]\ttest-rmse:8.20922\n",
            "[23]\ttest-rmse:8.03382\n",
            "[24]\ttest-rmse:7.86438\n",
            "[25]\ttest-rmse:7.70188\n",
            "[26]\ttest-rmse:7.54441\n",
            "[27]\ttest-rmse:7.39285\n",
            "[28]\ttest-rmse:7.24734\n",
            "[29]\ttest-rmse:7.10786\n",
            "[30]\ttest-rmse:6.9735\n",
            "[31]\ttest-rmse:6.84422\n",
            "[32]\ttest-rmse:6.72144\n",
            "[33]\ttest-rmse:6.60287\n",
            "[34]\ttest-rmse:6.49005\n",
            "[35]\ttest-rmse:6.38728\n",
            "[36]\ttest-rmse:6.28321\n",
            "[37]\ttest-rmse:6.18287\n",
            "[38]\ttest-rmse:6.08659\n",
            "[39]\ttest-rmse:5.99579\n",
            "[40]\ttest-rmse:5.90762\n",
            "[41]\ttest-rmse:5.82398\n",
            "[42]\ttest-rmse:5.74279\n",
            "[43]\ttest-rmse:5.66592\n",
            "[44]\ttest-rmse:5.59159\n",
            "[45]\ttest-rmse:5.52004\n",
            "[46]\ttest-rmse:5.45406\n",
            "[47]\ttest-rmse:5.39037\n",
            "[48]\ttest-rmse:5.32845\n",
            "[49]\ttest-rmse:5.26971\n",
            "[50]\ttest-rmse:5.21357\n",
            "[51]\ttest-rmse:5.15971\n",
            "[52]\ttest-rmse:5.10842\n",
            "[53]\ttest-rmse:5.05974\n",
            "[54]\ttest-rmse:5.01455\n",
            "[55]\ttest-rmse:4.9707\n",
            "[56]\ttest-rmse:4.92909\n",
            "[57]\ttest-rmse:4.88867\n",
            "[58]\ttest-rmse:4.85115\n",
            "[59]\ttest-rmse:4.81503\n",
            "[60]\ttest-rmse:4.78083\n",
            "[61]\ttest-rmse:4.7478\n",
            "[62]\ttest-rmse:4.71732\n",
            "[63]\ttest-rmse:4.68742\n",
            "[64]\ttest-rmse:4.66009\n",
            "[65]\ttest-rmse:4.63408\n",
            "[66]\ttest-rmse:4.60846\n",
            "[67]\ttest-rmse:4.58445\n",
            "[68]\ttest-rmse:4.56111\n",
            "[69]\ttest-rmse:4.53999\n",
            "[70]\ttest-rmse:4.51985\n",
            "[71]\ttest-rmse:4.50018\n",
            "[72]\ttest-rmse:4.48019\n",
            "[73]\ttest-rmse:4.4611\n",
            "[74]\ttest-rmse:4.4439\n",
            "[75]\ttest-rmse:4.42749\n",
            "[76]\ttest-rmse:4.41237\n",
            "[77]\ttest-rmse:4.39652\n",
            "[78]\ttest-rmse:4.38284\n",
            "[79]\ttest-rmse:4.3688\n",
            "[80]\ttest-rmse:4.35626\n",
            "[81]\ttest-rmse:4.34388\n",
            "[82]\ttest-rmse:4.33149\n",
            "[83]\ttest-rmse:4.32077\n",
            "[84]\ttest-rmse:4.30966\n",
            "[85]\ttest-rmse:4.29997\n",
            "[86]\ttest-rmse:4.28999\n",
            "[87]\ttest-rmse:4.27985\n",
            "[88]\ttest-rmse:4.27123\n",
            "[89]\ttest-rmse:4.26341\n",
            "[90]\ttest-rmse:4.25601\n",
            "[91]\ttest-rmse:4.24838\n",
            "[92]\ttest-rmse:4.24131\n",
            "[93]\ttest-rmse:4.23429\n",
            "[94]\ttest-rmse:4.22624\n",
            "[95]\ttest-rmse:4.22002\n",
            "[96]\ttest-rmse:4.21372\n",
            "[97]\ttest-rmse:4.20832\n",
            "[98]\ttest-rmse:4.20168\n",
            "[99]\ttest-rmse:4.19531\n",
            "[100]\ttest-rmse:4.19043\n",
            "[101]\ttest-rmse:4.18603\n",
            "[102]\ttest-rmse:4.18165\n",
            "[103]\ttest-rmse:4.17704\n",
            "[104]\ttest-rmse:4.17315\n",
            "[105]\ttest-rmse:4.16818\n",
            "[106]\ttest-rmse:4.1638\n",
            "[107]\ttest-rmse:4.15911\n",
            "[108]\ttest-rmse:4.15573\n",
            "[109]\ttest-rmse:4.1524\n",
            "[110]\ttest-rmse:4.14888\n",
            "[111]\ttest-rmse:4.14512\n",
            "[112]\ttest-rmse:4.14184\n",
            "[113]\ttest-rmse:4.1388\n",
            "[114]\ttest-rmse:4.13579\n",
            "[115]\ttest-rmse:4.13281\n",
            "[116]\ttest-rmse:4.12984\n",
            "[117]\ttest-rmse:4.12735\n",
            "[118]\ttest-rmse:4.12428\n",
            "[119]\ttest-rmse:4.12165\n",
            "[120]\ttest-rmse:4.11935\n",
            "[121]\ttest-rmse:4.11701\n",
            "[122]\ttest-rmse:4.11474\n",
            "[123]\ttest-rmse:4.11192\n",
            "[124]\ttest-rmse:4.10963\n",
            "[125]\ttest-rmse:4.10716\n",
            "[126]\ttest-rmse:4.10541\n",
            "[127]\ttest-rmse:4.10314\n",
            "[128]\ttest-rmse:4.10195\n",
            "[129]\ttest-rmse:4.10074\n",
            "[130]\ttest-rmse:4.09894\n",
            "[131]\ttest-rmse:4.09762\n",
            "[132]\ttest-rmse:4.09556\n",
            "[133]\ttest-rmse:4.09375\n",
            "[134]\ttest-rmse:4.09295\n",
            "[135]\ttest-rmse:4.09126\n",
            "[136]\ttest-rmse:4.08896\n",
            "[137]\ttest-rmse:4.08793\n",
            "[138]\ttest-rmse:4.08657\n",
            "[139]\ttest-rmse:4.08527\n",
            "[140]\ttest-rmse:4.083\n",
            "[141]\ttest-rmse:4.08175\n",
            "[142]\ttest-rmse:4.08057\n",
            "[143]\ttest-rmse:4.07872\n",
            "[144]\ttest-rmse:4.0778\n",
            "[145]\ttest-rmse:4.07655\n",
            "[146]\ttest-rmse:4.07521\n",
            "[147]\ttest-rmse:4.07389\n",
            "[148]\ttest-rmse:4.07304\n",
            "[149]\ttest-rmse:4.07214\n",
            "[150]\ttest-rmse:4.0706\n",
            "[151]\ttest-rmse:4.07016\n",
            "[152]\ttest-rmse:4.06954\n",
            "[153]\ttest-rmse:4.06853\n",
            "[154]\ttest-rmse:4.06652\n",
            "[155]\ttest-rmse:4.06577\n",
            "[156]\ttest-rmse:4.06508\n",
            "[157]\ttest-rmse:4.0645\n",
            "[158]\ttest-rmse:4.06323\n",
            "[159]\ttest-rmse:4.06245\n",
            "[160]\ttest-rmse:4.06188\n",
            "[161]\ttest-rmse:4.06099\n",
            "[162]\ttest-rmse:4.06049\n",
            "[163]\ttest-rmse:4.06006\n",
            "[164]\ttest-rmse:4.05952\n",
            "[165]\ttest-rmse:4.05862\n",
            "[166]\ttest-rmse:4.05828\n",
            "[167]\ttest-rmse:4.05758\n",
            "[168]\ttest-rmse:4.05715\n",
            "[169]\ttest-rmse:4.05623\n",
            "[170]\ttest-rmse:4.05613\n",
            "[171]\ttest-rmse:4.05582\n",
            "[172]\ttest-rmse:4.05558\n",
            "[173]\ttest-rmse:4.05513\n",
            "[174]\ttest-rmse:4.05303\n",
            "[175]\ttest-rmse:4.05279\n",
            "[176]\ttest-rmse:4.05288\n",
            "[177]\ttest-rmse:4.05218\n",
            "[178]\ttest-rmse:4.04988\n",
            "[179]\ttest-rmse:4.04956\n",
            "[180]\ttest-rmse:4.04918\n",
            "[181]\ttest-rmse:4.04846\n",
            "[182]\ttest-rmse:4.04834\n",
            "[183]\ttest-rmse:4.04814\n",
            "[184]\ttest-rmse:4.04737\n",
            "[185]\ttest-rmse:4.04728\n",
            "[186]\ttest-rmse:4.04762\n",
            "[187]\ttest-rmse:4.04765\n",
            "[188]\ttest-rmse:4.04742\n",
            "[189]\ttest-rmse:4.04676\n",
            "[190]\ttest-rmse:4.04625\n",
            "[191]\ttest-rmse:4.04631\n",
            "[192]\ttest-rmse:4.04604\n",
            "[193]\ttest-rmse:4.04579\n",
            "[194]\ttest-rmse:4.04554\n",
            "[195]\ttest-rmse:4.04509\n",
            "[196]\ttest-rmse:4.04443\n",
            "[197]\ttest-rmse:4.04305\n",
            "[198]\ttest-rmse:4.04261\n",
            "[199]\ttest-rmse:4.04224\n",
            "[200]\ttest-rmse:4.04206\n",
            "[201]\ttest-rmse:4.04162\n",
            "[202]\ttest-rmse:4.04188\n",
            "[203]\ttest-rmse:4.04167\n",
            "[204]\ttest-rmse:4.04073\n",
            "[205]\ttest-rmse:4.04067\n",
            "[206]\ttest-rmse:4.04011\n",
            "[207]\ttest-rmse:4.03981\n",
            "[208]\ttest-rmse:4.03925\n",
            "[209]\ttest-rmse:4.03734\n",
            "[210]\ttest-rmse:4.03716\n",
            "[211]\ttest-rmse:4.03702\n",
            "[212]\ttest-rmse:4.03652\n",
            "[213]\ttest-rmse:4.03597\n",
            "[214]\ttest-rmse:4.03565\n",
            "[215]\ttest-rmse:4.03553\n",
            "[216]\ttest-rmse:4.03558\n",
            "[217]\ttest-rmse:4.0352\n",
            "[218]\ttest-rmse:4.03484\n",
            "[219]\ttest-rmse:4.03466\n",
            "[220]\ttest-rmse:4.0329\n",
            "[221]\ttest-rmse:4.03219\n",
            "[222]\ttest-rmse:4.03215\n",
            "[223]\ttest-rmse:4.03199\n",
            "[224]\ttest-rmse:4.03104\n",
            "[225]\ttest-rmse:4.03079\n",
            "[226]\ttest-rmse:4.03083\n",
            "[227]\ttest-rmse:4.03017\n",
            "[228]\ttest-rmse:4.02997\n",
            "[229]\ttest-rmse:4.02989\n",
            "[230]\ttest-rmse:4.02949\n",
            "[231]\ttest-rmse:4.02951\n",
            "[232]\ttest-rmse:4.02947\n",
            "[233]\ttest-rmse:4.02883\n",
            "[234]\ttest-rmse:4.02807\n",
            "[235]\ttest-rmse:4.02758\n",
            "[236]\ttest-rmse:4.02717\n",
            "[237]\ttest-rmse:4.02674\n",
            "[238]\ttest-rmse:4.02658\n",
            "[239]\ttest-rmse:4.02656\n",
            "[240]\ttest-rmse:4.0263\n",
            "[241]\ttest-rmse:4.02635\n",
            "[242]\ttest-rmse:4.02489\n",
            "[243]\ttest-rmse:4.02414\n",
            "[244]\ttest-rmse:4.02379\n",
            "[245]\ttest-rmse:4.02314\n",
            "[246]\ttest-rmse:4.02326\n",
            "[247]\ttest-rmse:4.02349\n",
            "[248]\ttest-rmse:4.02355\n",
            "[249]\ttest-rmse:4.02262\n",
            "[250]\ttest-rmse:4.02251\n",
            "[251]\ttest-rmse:4.02248\n",
            "[252]\ttest-rmse:4.02125\n",
            "[253]\ttest-rmse:4.0208\n",
            "[254]\ttest-rmse:4.02053\n",
            "[255]\ttest-rmse:4.02049\n",
            "[256]\ttest-rmse:4.02043\n",
            "[257]\ttest-rmse:4.02031\n",
            "[258]\ttest-rmse:4.0203\n",
            "[259]\ttest-rmse:4.02001\n",
            "[260]\ttest-rmse:4.02007\n",
            "[261]\ttest-rmse:4.02006\n",
            "[262]\ttest-rmse:4.02034\n",
            "[263]\ttest-rmse:4.01998\n",
            "[264]\ttest-rmse:4.02014\n",
            "[265]\ttest-rmse:4.02\n",
            "[266]\ttest-rmse:4.01991\n",
            "[267]\ttest-rmse:4.01862\n",
            "[268]\ttest-rmse:4.01865\n",
            "[269]\ttest-rmse:4.01846\n",
            "[270]\ttest-rmse:4.01801\n",
            "[271]\ttest-rmse:4.01813\n",
            "[272]\ttest-rmse:4.01745\n",
            "[273]\ttest-rmse:4.01728\n",
            "[274]\ttest-rmse:4.01728\n",
            "[275]\ttest-rmse:4.01743\n",
            "[276]\ttest-rmse:4.01723\n",
            "[277]\ttest-rmse:4.01733\n",
            "[278]\ttest-rmse:4.01723\n",
            "[279]\ttest-rmse:4.01677\n",
            "[280]\ttest-rmse:4.01666\n",
            "[281]\ttest-rmse:4.01652\n",
            "[282]\ttest-rmse:4.0155\n",
            "[283]\ttest-rmse:4.01544\n",
            "[284]\ttest-rmse:4.01547\n",
            "[285]\ttest-rmse:4.01551\n",
            "[286]\ttest-rmse:4.01468\n",
            "[287]\ttest-rmse:4.01478\n",
            "[288]\ttest-rmse:4.01425\n",
            "[289]\ttest-rmse:4.01426\n",
            "[290]\ttest-rmse:4.01369\n",
            "[291]\ttest-rmse:4.01258\n",
            "[292]\ttest-rmse:4.01255\n",
            "[293]\ttest-rmse:4.01241\n",
            "[294]\ttest-rmse:4.01194\n",
            "[295]\ttest-rmse:4.01185\n",
            "[296]\ttest-rmse:4.01185\n",
            "[297]\ttest-rmse:4.01207\n",
            "[298]\ttest-rmse:4.01163\n",
            "[299]\ttest-rmse:4.01142\n",
            "[300]\ttest-rmse:4.01163\n",
            "[301]\ttest-rmse:4.01148\n",
            "[302]\ttest-rmse:4.01145\n",
            "[303]\ttest-rmse:4.01127\n",
            "[304]\ttest-rmse:4.01135\n",
            "[305]\ttest-rmse:4.01057\n",
            "[306]\ttest-rmse:4.01039\n",
            "[307]\ttest-rmse:4.00996\n",
            "[308]\ttest-rmse:4.00965\n",
            "[309]\ttest-rmse:4.00955\n",
            "[310]\ttest-rmse:4.0092\n",
            "[311]\ttest-rmse:4.00911\n",
            "[312]\ttest-rmse:4.00899\n",
            "[313]\ttest-rmse:4.00845\n",
            "[314]\ttest-rmse:4.00843\n",
            "[315]\ttest-rmse:4.00827\n",
            "[316]\ttest-rmse:4.00797\n",
            "[317]\ttest-rmse:4.00807\n",
            "[318]\ttest-rmse:4.00749\n",
            "[319]\ttest-rmse:4.00709\n",
            "[320]\ttest-rmse:4.00708\n",
            "[321]\ttest-rmse:4.00669\n",
            "[322]\ttest-rmse:4.00572\n",
            "[323]\ttest-rmse:4.00548\n",
            "[324]\ttest-rmse:4.00544\n",
            "[325]\ttest-rmse:4.00543\n",
            "[326]\ttest-rmse:4.00551\n",
            "[327]\ttest-rmse:4.00555\n",
            "[328]\ttest-rmse:4.00555\n",
            "[329]\ttest-rmse:4.00513\n",
            "[330]\ttest-rmse:4.00499\n",
            "[331]\ttest-rmse:4.00509\n",
            "[332]\ttest-rmse:4.00542\n",
            "[333]\ttest-rmse:4.00535\n",
            "[334]\ttest-rmse:4.00526\n",
            "[335]\ttest-rmse:4.00549\n",
            "[336]\ttest-rmse:4.00552\n",
            "[337]\ttest-rmse:4.00546\n",
            "[338]\ttest-rmse:4.00536\n",
            "[339]\ttest-rmse:4.00439\n",
            "[340]\ttest-rmse:4.00436\n",
            "[341]\ttest-rmse:4.00413\n",
            "[342]\ttest-rmse:4.00412\n",
            "[343]\ttest-rmse:4.00313\n",
            "[344]\ttest-rmse:4.00343\n",
            "[345]\ttest-rmse:4.0035\n",
            "[346]\ttest-rmse:4.00322\n",
            "[347]\ttest-rmse:4.00291\n",
            "[348]\ttest-rmse:4.00281\n",
            "[349]\ttest-rmse:4.00258\n",
            "[350]\ttest-rmse:4.00235\n",
            "[351]\ttest-rmse:4.00223\n",
            "[352]\ttest-rmse:4.00148\n",
            "[353]\ttest-rmse:4.00154\n",
            "[354]\ttest-rmse:4.00161\n",
            "[355]\ttest-rmse:4.00134\n",
            "[356]\ttest-rmse:4.00109\n",
            "[357]\ttest-rmse:4.00017\n",
            "[358]\ttest-rmse:3.99961\n",
            "[359]\ttest-rmse:3.99914\n",
            "[360]\ttest-rmse:3.99913\n",
            "[361]\ttest-rmse:3.99912\n",
            "[362]\ttest-rmse:3.99915\n",
            "[363]\ttest-rmse:3.99901\n",
            "[364]\ttest-rmse:3.99885\n",
            "[365]\ttest-rmse:3.99849\n",
            "[366]\ttest-rmse:3.99791\n",
            "[367]\ttest-rmse:3.99781\n",
            "[368]\ttest-rmse:3.99787\n",
            "[369]\ttest-rmse:3.9977\n",
            "[370]\ttest-rmse:3.99748\n",
            "[371]\ttest-rmse:3.99686\n",
            "[372]\ttest-rmse:3.99606\n",
            "[373]\ttest-rmse:3.99617\n",
            "[374]\ttest-rmse:3.99604\n",
            "[375]\ttest-rmse:3.99597\n",
            "[376]\ttest-rmse:3.99587\n",
            "[377]\ttest-rmse:3.99593\n",
            "[378]\ttest-rmse:3.99599\n",
            "[379]\ttest-rmse:3.9957\n",
            "[380]\ttest-rmse:3.99572\n",
            "[381]\ttest-rmse:3.99581\n",
            "[382]\ttest-rmse:3.99575\n",
            "[383]\ttest-rmse:3.99573\n",
            "[384]\ttest-rmse:3.99575\n",
            "[385]\ttest-rmse:3.99574\n",
            "[386]\ttest-rmse:3.9954\n",
            "[387]\ttest-rmse:3.99521\n",
            "[388]\ttest-rmse:3.99523\n",
            "[389]\ttest-rmse:3.99491\n",
            "[390]\ttest-rmse:3.99452\n",
            "[391]\ttest-rmse:3.99451\n",
            "[392]\ttest-rmse:3.99455\n",
            "[393]\ttest-rmse:3.99464\n",
            "[394]\ttest-rmse:3.99461\n",
            "[395]\ttest-rmse:3.99463\n",
            "[396]\ttest-rmse:3.99437\n",
            "[397]\ttest-rmse:3.99439\n",
            "[398]\ttest-rmse:3.99412\n",
            "[399]\ttest-rmse:3.99403\n",
            "[400]\ttest-rmse:3.99386\n",
            "[401]\ttest-rmse:3.99352\n",
            "[402]\ttest-rmse:3.99352\n",
            "[403]\ttest-rmse:3.99336\n",
            "[404]\ttest-rmse:3.99336\n",
            "[405]\ttest-rmse:3.99331\n",
            "[406]\ttest-rmse:3.99328\n",
            "[407]\ttest-rmse:3.9932\n",
            "[408]\ttest-rmse:3.99301\n",
            "[409]\ttest-rmse:3.99278\n",
            "[410]\ttest-rmse:3.9928\n",
            "[411]\ttest-rmse:3.99276\n",
            "[412]\ttest-rmse:3.99263\n",
            "[413]\ttest-rmse:3.99263\n",
            "[414]\ttest-rmse:3.99282\n",
            "[415]\ttest-rmse:3.99282\n",
            "[416]\ttest-rmse:3.99271\n",
            "[417]\ttest-rmse:3.99253\n",
            "[418]\ttest-rmse:3.99198\n",
            "[419]\ttest-rmse:3.99198\n",
            "[420]\ttest-rmse:3.99197\n",
            "[421]\ttest-rmse:3.9918\n",
            "[422]\ttest-rmse:3.9919\n",
            "[423]\ttest-rmse:3.99192\n",
            "[424]\ttest-rmse:3.9918\n",
            "[425]\ttest-rmse:3.99115\n",
            "[426]\ttest-rmse:3.99084\n",
            "[427]\ttest-rmse:3.99087\n",
            "[428]\ttest-rmse:3.99073\n",
            "[429]\ttest-rmse:3.99069\n",
            "[430]\ttest-rmse:3.99067\n",
            "[431]\ttest-rmse:3.99056\n",
            "[432]\ttest-rmse:3.99053\n",
            "[433]\ttest-rmse:3.99041\n",
            "[434]\ttest-rmse:3.99037\n",
            "[435]\ttest-rmse:3.99032\n",
            "[436]\ttest-rmse:3.99019\n",
            "[437]\ttest-rmse:3.98997\n",
            "[438]\ttest-rmse:3.9897\n",
            "[439]\ttest-rmse:3.98981\n",
            "[440]\ttest-rmse:3.98925\n",
            "[441]\ttest-rmse:3.98871\n",
            "[442]\ttest-rmse:3.98871\n",
            "[443]\ttest-rmse:3.98859\n",
            "[444]\ttest-rmse:3.98849\n",
            "[445]\ttest-rmse:3.98823\n",
            "[446]\ttest-rmse:3.98811\n",
            "[447]\ttest-rmse:3.98809\n",
            "[448]\ttest-rmse:3.98792\n",
            "[449]\ttest-rmse:3.98782\n",
            "[450]\ttest-rmse:3.98772\n",
            "[451]\ttest-rmse:3.98778\n",
            "[452]\ttest-rmse:3.98751\n",
            "[453]\ttest-rmse:3.98692\n",
            "[454]\ttest-rmse:3.98696\n",
            "[455]\ttest-rmse:3.98712\n",
            "[456]\ttest-rmse:3.98693\n",
            "[457]\ttest-rmse:3.98674\n",
            "[458]\ttest-rmse:3.98652\n",
            "[459]\ttest-rmse:3.98601\n",
            "[460]\ttest-rmse:3.98522\n",
            "[461]\ttest-rmse:3.98517\n",
            "[462]\ttest-rmse:3.98511\n",
            "[463]\ttest-rmse:3.98504\n",
            "[464]\ttest-rmse:3.98506\n",
            "[465]\ttest-rmse:3.98486\n",
            "[466]\ttest-rmse:3.98448\n",
            "[467]\ttest-rmse:3.9842\n",
            "[468]\ttest-rmse:3.98376\n",
            "[469]\ttest-rmse:3.98368\n",
            "[470]\ttest-rmse:3.9838\n",
            "[471]\ttest-rmse:3.98393\n",
            "[472]\ttest-rmse:3.98365\n",
            "[473]\ttest-rmse:3.98363\n",
            "[474]\ttest-rmse:3.98359\n",
            "[475]\ttest-rmse:3.98363\n",
            "[476]\ttest-rmse:3.98339\n",
            "[477]\ttest-rmse:3.98339\n",
            "[478]\ttest-rmse:3.98335\n",
            "[479]\ttest-rmse:3.98302\n",
            "[480]\ttest-rmse:3.98313\n",
            "[481]\ttest-rmse:3.98353\n",
            "[482]\ttest-rmse:3.9835\n",
            "[483]\ttest-rmse:3.98354\n",
            "[484]\ttest-rmse:3.98367\n",
            "[485]\ttest-rmse:3.98355\n",
            "[486]\ttest-rmse:3.98339\n",
            "[487]\ttest-rmse:3.98321\n",
            "[488]\ttest-rmse:3.98289\n",
            "[489]\ttest-rmse:3.98285\n",
            "[490]\ttest-rmse:3.98282\n",
            "[491]\ttest-rmse:3.98247\n",
            "[492]\ttest-rmse:3.98236\n",
            "[493]\ttest-rmse:3.98212\n",
            "[494]\ttest-rmse:3.98219\n",
            "[495]\ttest-rmse:3.98216\n",
            "[496]\ttest-rmse:3.98187\n",
            "[497]\ttest-rmse:3.98162\n",
            "[498]\ttest-rmse:3.98145\n",
            "[499]\ttest-rmse:3.98164\n",
            "[500]\ttest-rmse:3.9817\n",
            "[501]\ttest-rmse:3.98166\n",
            "[502]\ttest-rmse:3.98157\n",
            "[503]\ttest-rmse:3.98147\n",
            "[504]\ttest-rmse:3.98143\n",
            "[505]\ttest-rmse:3.98105\n",
            "[506]\ttest-rmse:3.98113\n",
            "[507]\ttest-rmse:3.981\n",
            "[508]\ttest-rmse:3.98076\n",
            "[509]\ttest-rmse:3.98091\n",
            "[510]\ttest-rmse:3.98098\n",
            "[511]\ttest-rmse:3.98086\n",
            "[512]\ttest-rmse:3.98049\n",
            "[513]\ttest-rmse:3.98053\n",
            "[514]\ttest-rmse:3.98027\n",
            "[515]\ttest-rmse:3.98029\n",
            "[516]\ttest-rmse:3.98006\n",
            "[517]\ttest-rmse:3.98007\n",
            "[518]\ttest-rmse:3.97986\n",
            "[519]\ttest-rmse:3.97981\n",
            "[520]\ttest-rmse:3.97942\n",
            "[521]\ttest-rmse:3.9793\n",
            "[522]\ttest-rmse:3.97925\n",
            "[523]\ttest-rmse:3.97921\n",
            "[524]\ttest-rmse:3.97921\n",
            "[525]\ttest-rmse:3.97913\n",
            "[526]\ttest-rmse:3.97891\n",
            "[527]\ttest-rmse:3.97897\n",
            "[528]\ttest-rmse:3.97864\n",
            "[529]\ttest-rmse:3.97859\n",
            "[530]\ttest-rmse:3.97847\n",
            "[531]\ttest-rmse:3.97843\n",
            "[532]\ttest-rmse:3.97843\n",
            "[533]\ttest-rmse:3.97855\n",
            "[534]\ttest-rmse:3.9784\n",
            "[535]\ttest-rmse:3.97832\n",
            "[536]\ttest-rmse:3.97839\n",
            "[537]\ttest-rmse:3.97847\n",
            "[538]\ttest-rmse:3.97836\n",
            "[539]\ttest-rmse:3.97782\n",
            "[540]\ttest-rmse:3.97777\n",
            "[541]\ttest-rmse:3.97746\n",
            "[542]\ttest-rmse:3.97745\n",
            "[543]\ttest-rmse:3.97746\n",
            "[544]\ttest-rmse:3.97738\n",
            "[545]\ttest-rmse:3.9774\n",
            "[546]\ttest-rmse:3.97677\n",
            "[547]\ttest-rmse:3.97679\n",
            "[548]\ttest-rmse:3.9768\n",
            "[549]\ttest-rmse:3.97678\n",
            "[550]\ttest-rmse:3.97679\n",
            "[551]\ttest-rmse:3.97653\n",
            "[552]\ttest-rmse:3.97657\n",
            "[553]\ttest-rmse:3.97646\n",
            "[554]\ttest-rmse:3.97658\n",
            "[555]\ttest-rmse:3.97642\n",
            "[556]\ttest-rmse:3.97638\n",
            "[557]\ttest-rmse:3.97632\n",
            "[558]\ttest-rmse:3.97635\n",
            "[559]\ttest-rmse:3.97623\n",
            "[560]\ttest-rmse:3.97616\n",
            "[561]\ttest-rmse:3.97618\n",
            "[562]\ttest-rmse:3.97609\n",
            "[563]\ttest-rmse:3.97593\n",
            "[564]\ttest-rmse:3.97567\n",
            "[565]\ttest-rmse:3.97595\n",
            "[566]\ttest-rmse:3.97587\n",
            "[567]\ttest-rmse:3.9757\n",
            "[568]\ttest-rmse:3.9752\n",
            "[569]\ttest-rmse:3.9746\n",
            "[570]\ttest-rmse:3.97448\n",
            "[571]\ttest-rmse:3.97439\n",
            "[572]\ttest-rmse:3.97439\n",
            "[573]\ttest-rmse:3.9744\n",
            "[574]\ttest-rmse:3.97434\n",
            "[575]\ttest-rmse:3.97445\n",
            "[576]\ttest-rmse:3.97444\n",
            "[577]\ttest-rmse:3.97365\n",
            "[578]\ttest-rmse:3.97363\n",
            "[579]\ttest-rmse:3.97364\n",
            "[580]\ttest-rmse:3.97367\n",
            "[581]\ttest-rmse:3.97352\n",
            "[582]\ttest-rmse:3.97303\n",
            "[583]\ttest-rmse:3.97304\n",
            "[584]\ttest-rmse:3.97286\n",
            "[585]\ttest-rmse:3.9729\n",
            "[586]\ttest-rmse:3.97289\n",
            "[587]\ttest-rmse:3.97281\n",
            "[588]\ttest-rmse:3.97242\n",
            "[589]\ttest-rmse:3.97236\n",
            "[590]\ttest-rmse:3.97207\n",
            "[591]\ttest-rmse:3.97205\n",
            "[592]\ttest-rmse:3.97187\n",
            "[593]\ttest-rmse:3.97109\n",
            "[594]\ttest-rmse:3.971\n",
            "[595]\ttest-rmse:3.97103\n",
            "[596]\ttest-rmse:3.97097\n",
            "[597]\ttest-rmse:3.97086\n",
            "[598]\ttest-rmse:3.97052\n",
            "[599]\ttest-rmse:3.97057\n",
            "[600]\ttest-rmse:3.97035\n",
            "[601]\ttest-rmse:3.97031\n",
            "[602]\ttest-rmse:3.97031\n",
            "[603]\ttest-rmse:3.97026\n",
            "[604]\ttest-rmse:3.97014\n",
            "[605]\ttest-rmse:3.97007\n",
            "[606]\ttest-rmse:3.97008\n",
            "[607]\ttest-rmse:3.97004\n",
            "[608]\ttest-rmse:3.96978\n",
            "[609]\ttest-rmse:3.96977\n",
            "[610]\ttest-rmse:3.96955\n",
            "[611]\ttest-rmse:3.96938\n",
            "[612]\ttest-rmse:3.96908\n",
            "[613]\ttest-rmse:3.96909\n",
            "[614]\ttest-rmse:3.9692\n",
            "[615]\ttest-rmse:3.96911\n",
            "[616]\ttest-rmse:3.96899\n",
            "[617]\ttest-rmse:3.96859\n",
            "[618]\ttest-rmse:3.96837\n",
            "[619]\ttest-rmse:3.96825\n",
            "[620]\ttest-rmse:3.96814\n",
            "[621]\ttest-rmse:3.96812\n",
            "[622]\ttest-rmse:3.96812\n",
            "[623]\ttest-rmse:3.96788\n",
            "[624]\ttest-rmse:3.96785\n",
            "[625]\ttest-rmse:3.96782\n",
            "[626]\ttest-rmse:3.96751\n",
            "[627]\ttest-rmse:3.96769\n",
            "[628]\ttest-rmse:3.9677\n",
            "[629]\ttest-rmse:3.96766\n",
            "[630]\ttest-rmse:3.96771\n",
            "[631]\ttest-rmse:3.96756\n",
            "[632]\ttest-rmse:3.96701\n",
            "[633]\ttest-rmse:3.96663\n",
            "[634]\ttest-rmse:3.96662\n",
            "[635]\ttest-rmse:3.96607\n",
            "[636]\ttest-rmse:3.96594\n",
            "[637]\ttest-rmse:3.96601\n",
            "[638]\ttest-rmse:3.96599\n",
            "[639]\ttest-rmse:3.96596\n",
            "[640]\ttest-rmse:3.96587\n",
            "[641]\ttest-rmse:3.96563\n",
            "[642]\ttest-rmse:3.96503\n",
            "[643]\ttest-rmse:3.96494\n",
            "[644]\ttest-rmse:3.96493\n",
            "[645]\ttest-rmse:3.96484\n",
            "[646]\ttest-rmse:3.96481\n",
            "[647]\ttest-rmse:3.9648\n",
            "[648]\ttest-rmse:3.96467\n",
            "[649]\ttest-rmse:3.96465\n",
            "[650]\ttest-rmse:3.96466\n",
            "[651]\ttest-rmse:3.96474\n",
            "[652]\ttest-rmse:3.96478\n",
            "[653]\ttest-rmse:3.96454\n",
            "[654]\ttest-rmse:3.96451\n",
            "[655]\ttest-rmse:3.96445\n",
            "[656]\ttest-rmse:3.96445\n",
            "[657]\ttest-rmse:3.96449\n",
            "[658]\ttest-rmse:3.96428\n",
            "[659]\ttest-rmse:3.96423\n",
            "[660]\ttest-rmse:3.96421\n",
            "[661]\ttest-rmse:3.96405\n",
            "[662]\ttest-rmse:3.964\n",
            "[663]\ttest-rmse:3.96382\n",
            "[664]\ttest-rmse:3.9638\n",
            "[665]\ttest-rmse:3.96387\n",
            "[666]\ttest-rmse:3.96389\n",
            "[667]\ttest-rmse:3.96381\n",
            "[668]\ttest-rmse:3.96374\n",
            "[669]\ttest-rmse:3.96299\n",
            "[670]\ttest-rmse:3.9627\n",
            "[671]\ttest-rmse:3.96242\n",
            "[672]\ttest-rmse:3.96227\n",
            "[673]\ttest-rmse:3.96218\n",
            "[674]\ttest-rmse:3.96218\n",
            "[675]\ttest-rmse:3.96212\n",
            "[676]\ttest-rmse:3.96211\n",
            "[677]\ttest-rmse:3.96179\n",
            "[678]\ttest-rmse:3.96177\n",
            "[679]\ttest-rmse:3.96184\n",
            "[680]\ttest-rmse:3.96195\n",
            "[681]\ttest-rmse:3.96196\n",
            "[682]\ttest-rmse:3.9619\n",
            "[683]\ttest-rmse:3.96173\n",
            "[684]\ttest-rmse:3.96129\n",
            "[685]\ttest-rmse:3.96131\n",
            "[686]\ttest-rmse:3.96123\n",
            "[687]\ttest-rmse:3.96117\n",
            "[688]\ttest-rmse:3.96111\n",
            "[689]\ttest-rmse:3.96106\n",
            "[690]\ttest-rmse:3.96103\n",
            "[691]\ttest-rmse:3.96111\n",
            "[692]\ttest-rmse:3.96086\n",
            "[693]\ttest-rmse:3.96086\n",
            "[694]\ttest-rmse:3.96081\n",
            "[695]\ttest-rmse:3.96076\n",
            "[696]\ttest-rmse:3.96052\n",
            "[697]\ttest-rmse:3.96053\n",
            "[698]\ttest-rmse:3.96045\n",
            "[699]\ttest-rmse:3.96043\n",
            "[700]\ttest-rmse:3.96041\n",
            "[701]\ttest-rmse:3.96059\n",
            "[702]\ttest-rmse:3.96057\n",
            "[703]\ttest-rmse:3.96057\n",
            "[704]\ttest-rmse:3.96024\n",
            "[705]\ttest-rmse:3.96014\n",
            "[706]\ttest-rmse:3.96007\n",
            "[707]\ttest-rmse:3.95988\n",
            "[708]\ttest-rmse:3.95986\n",
            "[709]\ttest-rmse:3.9599\n",
            "[710]\ttest-rmse:3.95993\n",
            "[711]\ttest-rmse:3.95957\n",
            "[712]\ttest-rmse:3.95938\n",
            "[713]\ttest-rmse:3.95934\n",
            "[714]\ttest-rmse:3.95912\n",
            "[715]\ttest-rmse:3.95909\n",
            "[716]\ttest-rmse:3.95912\n",
            "[717]\ttest-rmse:3.95898\n",
            "[718]\ttest-rmse:3.95895\n",
            "[719]\ttest-rmse:3.95894\n",
            "[720]\ttest-rmse:3.95873\n",
            "[721]\ttest-rmse:3.95871\n",
            "[722]\ttest-rmse:3.95883\n",
            "[723]\ttest-rmse:3.95873\n",
            "[724]\ttest-rmse:3.9587\n",
            "[725]\ttest-rmse:3.95865\n",
            "[726]\ttest-rmse:3.95861\n",
            "[727]\ttest-rmse:3.95861\n",
            "[728]\ttest-rmse:3.95852\n",
            "[729]\ttest-rmse:3.95847\n",
            "[730]\ttest-rmse:3.95854\n",
            "[731]\ttest-rmse:3.95844\n",
            "[732]\ttest-rmse:3.95842\n",
            "[733]\ttest-rmse:3.95842\n",
            "[734]\ttest-rmse:3.95843\n",
            "[735]\ttest-rmse:3.95837\n",
            "[736]\ttest-rmse:3.95841\n",
            "[737]\ttest-rmse:3.95845\n",
            "[738]\ttest-rmse:3.9585\n",
            "[739]\ttest-rmse:3.95842\n",
            "[740]\ttest-rmse:3.95835\n",
            "[741]\ttest-rmse:3.95832\n",
            "[742]\ttest-rmse:3.95822\n",
            "[743]\ttest-rmse:3.95819\n",
            "[744]\ttest-rmse:3.95819\n",
            "[745]\ttest-rmse:3.95827\n",
            "[746]\ttest-rmse:3.95807\n",
            "[747]\ttest-rmse:3.95806\n",
            "[748]\ttest-rmse:3.95798\n",
            "[749]\ttest-rmse:3.95785\n",
            "[750]\ttest-rmse:3.95785\n",
            "[751]\ttest-rmse:3.95791\n",
            "[752]\ttest-rmse:3.95751\n",
            "[753]\ttest-rmse:3.95739\n",
            "[754]\ttest-rmse:3.95747\n",
            "[755]\ttest-rmse:3.95747\n",
            "[756]\ttest-rmse:3.95748\n",
            "[757]\ttest-rmse:3.95753\n",
            "[758]\ttest-rmse:3.95748\n",
            "[759]\ttest-rmse:3.95744\n",
            "[760]\ttest-rmse:3.95737\n",
            "[761]\ttest-rmse:3.95748\n",
            "[762]\ttest-rmse:3.95752\n",
            "[763]\ttest-rmse:3.95754\n",
            "[764]\ttest-rmse:3.95756\n",
            "[765]\ttest-rmse:3.95762\n",
            "[766]\ttest-rmse:3.95766\n",
            "[767]\ttest-rmse:3.95745\n",
            "[768]\ttest-rmse:3.95704\n",
            "[769]\ttest-rmse:3.95711\n",
            "[770]\ttest-rmse:3.95724\n",
            "[771]\ttest-rmse:3.95723\n",
            "[772]\ttest-rmse:3.95654\n",
            "[773]\ttest-rmse:3.9565\n",
            "[774]\ttest-rmse:3.95649\n",
            "[775]\ttest-rmse:3.95646\n",
            "[776]\ttest-rmse:3.95642\n",
            "[777]\ttest-rmse:3.95643\n",
            "[778]\ttest-rmse:3.95637\n",
            "[779]\ttest-rmse:3.95607\n",
            "[780]\ttest-rmse:3.95609\n",
            "[781]\ttest-rmse:3.95608\n",
            "[782]\ttest-rmse:3.95607\n",
            "[783]\ttest-rmse:3.95591\n",
            "[784]\ttest-rmse:3.95598\n",
            "[785]\ttest-rmse:3.95589\n",
            "[786]\ttest-rmse:3.95525\n",
            "[787]\ttest-rmse:3.95521\n",
            "[788]\ttest-rmse:3.95526\n",
            "[789]\ttest-rmse:3.95523\n",
            "[790]\ttest-rmse:3.95521\n",
            "[791]\ttest-rmse:3.9552\n",
            "[792]\ttest-rmse:3.95521\n",
            "[793]\ttest-rmse:3.95521\n",
            "[794]\ttest-rmse:3.95542\n",
            "[795]\ttest-rmse:3.95538\n",
            "[796]\ttest-rmse:3.95536\n",
            "[797]\ttest-rmse:3.95511\n",
            "[798]\ttest-rmse:3.95492\n",
            "[799]\ttest-rmse:3.95483\n",
            "[800]\ttest-rmse:3.95472\n",
            "[801]\ttest-rmse:3.95476\n",
            "[802]\ttest-rmse:3.9546\n",
            "[803]\ttest-rmse:3.95457\n",
            "[804]\ttest-rmse:3.95454\n",
            "[805]\ttest-rmse:3.95476\n",
            "[806]\ttest-rmse:3.95476\n",
            "[807]\ttest-rmse:3.95477\n",
            "[808]\ttest-rmse:3.95486\n",
            "[809]\ttest-rmse:3.95489\n",
            "[810]\ttest-rmse:3.9545\n",
            "[811]\ttest-rmse:3.95428\n",
            "[812]\ttest-rmse:3.95416\n",
            "[813]\ttest-rmse:3.95386\n",
            "[814]\ttest-rmse:3.95409\n",
            "[815]\ttest-rmse:3.95383\n",
            "[816]\ttest-rmse:3.95382\n",
            "[817]\ttest-rmse:3.95376\n",
            "[818]\ttest-rmse:3.95366\n",
            "[819]\ttest-rmse:3.95368\n",
            "[820]\ttest-rmse:3.95368\n",
            "[821]\ttest-rmse:3.95368\n",
            "[822]\ttest-rmse:3.95343\n",
            "[823]\ttest-rmse:3.9534\n",
            "[824]\ttest-rmse:3.95341\n",
            "[825]\ttest-rmse:3.95346\n",
            "[826]\ttest-rmse:3.95333\n",
            "[827]\ttest-rmse:3.95323\n",
            "[828]\ttest-rmse:3.95337\n",
            "[829]\ttest-rmse:3.95338\n",
            "[830]\ttest-rmse:3.95339\n",
            "[831]\ttest-rmse:3.95339\n",
            "[832]\ttest-rmse:3.95338\n",
            "[833]\ttest-rmse:3.95336\n",
            "[834]\ttest-rmse:3.95298\n",
            "[835]\ttest-rmse:3.95296\n",
            "[836]\ttest-rmse:3.95276\n",
            "[837]\ttest-rmse:3.95265\n",
            "[838]\ttest-rmse:3.95235\n",
            "[839]\ttest-rmse:3.95236\n",
            "[840]\ttest-rmse:3.95234\n",
            "[841]\ttest-rmse:3.95238\n",
            "[842]\ttest-rmse:3.95231\n",
            "[843]\ttest-rmse:3.95215\n",
            "[844]\ttest-rmse:3.95207\n",
            "[845]\ttest-rmse:3.95204\n",
            "[846]\ttest-rmse:3.95197\n",
            "[847]\ttest-rmse:3.95204\n",
            "[848]\ttest-rmse:3.952\n",
            "[849]\ttest-rmse:3.95198\n",
            "[850]\ttest-rmse:3.9518\n",
            "[851]\ttest-rmse:3.95177\n",
            "[852]\ttest-rmse:3.95174\n",
            "[853]\ttest-rmse:3.95171\n",
            "[854]\ttest-rmse:3.95168\n",
            "[855]\ttest-rmse:3.95166\n",
            "[856]\ttest-rmse:3.95167\n",
            "[857]\ttest-rmse:3.95167\n",
            "[858]\ttest-rmse:3.95167\n",
            "[859]\ttest-rmse:3.95165\n",
            "[860]\ttest-rmse:3.9513\n",
            "[861]\ttest-rmse:3.95127\n",
            "[862]\ttest-rmse:3.95127\n",
            "[863]\ttest-rmse:3.95124\n",
            "[864]\ttest-rmse:3.95126\n",
            "[865]\ttest-rmse:3.95127\n",
            "[866]\ttest-rmse:3.95093\n",
            "[867]\ttest-rmse:3.951\n",
            "[868]\ttest-rmse:3.95101\n",
            "[869]\ttest-rmse:3.95112\n",
            "[870]\ttest-rmse:3.95115\n",
            "[871]\ttest-rmse:3.95116\n",
            "[872]\ttest-rmse:3.95119\n",
            "[873]\ttest-rmse:3.9512\n",
            "[874]\ttest-rmse:3.95115\n",
            "[875]\ttest-rmse:3.95124\n",
            "[876]\ttest-rmse:3.95129\n",
            "Stopping. Best iteration:\n",
            "[866]\ttest-rmse:3.95093\n",
            "\n"
          ],
          "name": "stdout"
        }
      ]
    },
    {
      "cell_type": "code",
      "metadata": {
        "id": "nuP3PEDAAuGb"
      },
      "source": [
        ""
      ],
      "execution_count": null,
      "outputs": []
    }
  ]
}